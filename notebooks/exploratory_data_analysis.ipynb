{
 "cells": [
  {
   "cell_type": "code",
   "execution_count": 1,
   "metadata": {},
   "outputs": [],
   "source": [
    "# Import required libraries\n",
    "import pandas as pd\n",
    "import seaborn as sns\n",
    "import matplotlib.pyplot as plt\n",
    "import numpy as np\n",
    "\n",
    "# Set visualization style\n",
    "sns.set_theme(style=\"whitegrid\")\n",
    "plt.rcParams[\"figure.figsize\"] = (10, 5)\n"
   ]
  },
  {
   "cell_type": "code",
   "execution_count": 2,
   "metadata": {},
   "outputs": [],
   "source": [
    "\n",
    "# Load  dataset \n",
    "df = pd.read_csv('D:/FYP/data/datasets/final_dataset_02.csv') \n"
   ]
  },
  {
   "cell_type": "code",
   "execution_count": 3,
   "metadata": {},
   "outputs": [
    {
     "name": "stdout",
     "output_type": "stream",
     "text": [
      " Dataset Shape: (133854, 12)\n",
      "\n",
      " Dataset Preview:\n",
      "    frame.number  _ws.col.protocol  ip.ttl  ip.src  ip.dst  tcp.srcport  \\\n",
      "0             1                 1      48      22      13      52813.0   \n",
      "1             2                 1      48      22      13      52813.0   \n",
      "2             3                 2      18      27      15      52813.0   \n",
      "3             4                 2      18      27      15      52813.0   \n",
      "4             5                 2      18      27      15      52813.0   \n",
      "\n",
      "   tcp.dstport  tcp.flags  _ws.col.info  frame.len  \\\n",
      "0        443.0          2          5445        330   \n",
      "1        443.0          2          5445        330   \n",
      "2        443.0          2          8142        118   \n",
      "3        443.0          2          8142        118   \n",
      "4        443.0          2          8023        117   \n",
      "\n",
      "   frame.time_delta_displayed  label  \n",
      "0                    0.000000      0  \n",
      "1                    0.000013      0  \n",
      "2                    0.313026      1  \n",
      "3                    0.000012      1  \n",
      "4                    0.000318      1  \n",
      "\n",
      " Dataset Info:\n",
      "<class 'pandas.core.frame.DataFrame'>\n",
      "RangeIndex: 133854 entries, 0 to 133853\n",
      "Data columns (total 12 columns):\n",
      " #   Column                      Non-Null Count   Dtype  \n",
      "---  ------                      --------------   -----  \n",
      " 0   frame.number                133854 non-null  int64  \n",
      " 1   _ws.col.protocol            133854 non-null  int64  \n",
      " 2   ip.ttl                      133854 non-null  int64  \n",
      " 3   ip.src                      133854 non-null  int64  \n",
      " 4   ip.dst                      133854 non-null  int64  \n",
      " 5   tcp.srcport                 133854 non-null  float64\n",
      " 6   tcp.dstport                 133854 non-null  float64\n",
      " 7   tcp.flags                   133854 non-null  int64  \n",
      " 8   _ws.col.info                133854 non-null  int64  \n",
      " 9   frame.len                   133854 non-null  int64  \n",
      " 10  frame.time_delta_displayed  133854 non-null  float64\n",
      " 11  label                       133854 non-null  int64  \n",
      "dtypes: float64(3), int64(9)\n",
      "memory usage: 12.3 MB\n"
     ]
    }
   ],
   "source": [
    "\n",
    "# 1️⃣ Basic Info\n",
    "print(\" Dataset Shape:\", df.shape)\n",
    "print(\"\\n Dataset Preview:\\n\", df.head())\n",
    "print(\"\\n Dataset Info:\")\n",
    "df.info()\n"
   ]
  },
  {
   "cell_type": "code",
   "execution_count": null,
   "metadata": {},
   "outputs": [],
   "source": [
    "\n",
    "# 2️⃣ Check for Missing Values\n",
    "print(\"Missing Values:\\n\", df.isnull().sum())\n"
   ]
  },
  {
   "cell_type": "code",
   "execution_count": null,
   "metadata": {},
   "outputs": [],
   "source": [
    "\n",
    "# 2️⃣ Check for Missing Values\n",
    "print(\"Missing Values:\\n\", df.isnull().sum())\n"
   ]
  },
  {
   "cell_type": "code",
   "execution_count": null,
   "metadata": {},
   "outputs": [],
   "source": [
    "\n",
    "# 3️⃣ Descriptive Statistics\n",
    "print(\"Statistical Summary:\\n\", df.describe())\n"
   ]
  },
  {
   "cell_type": "code",
   "execution_count": null,
   "metadata": {},
   "outputs": [],
   "source": [
    "\n",
    "# 4️⃣ Label Distribution\n",
    "plt.figure(figsize=(6, 4))\n",
    "sns.countplot(x='label', data=df, palette='Set2')\n",
    "plt.title(\"Class Distribution (Normal vs Attack)\")\n",
    "plt.xlabel(\"Label\")\n",
    "plt.ylabel(\"Count\")\n",
    "plt.tight_layout()\n",
    "plt.show()\n"
   ]
  },
  {
   "cell_type": "code",
   "execution_count": null,
   "metadata": {},
   "outputs": [],
   "source": [
    "\n",
    "# 5️⃣ Identify column types\n",
    "categorical_cols = df.select_dtypes(include=['object', 'category']).columns.tolist()\n",
    "numerical_cols = df.select_dtypes(include=['int64', 'float64']).columns.tolist()\n",
    "if 'label' in categorical_cols: categorical_cols.remove('label')  # We'll plot it separately\n",
    "\n",
    "print(f\"\\n Categorical Columns: {categorical_cols}\")\n",
    "print(f\" Numerical Columns: {numerical_cols}\")\n"
   ]
  },
  {
   "cell_type": "code",
   "execution_count": null,
   "metadata": {},
   "outputs": [],
   "source": [
    "\n",
    "# 6️⃣ Categorical Feature Distributions (Pre-Encoding)\n",
    "for col in categorical_cols:\n",
    "    plt.figure(figsize=(8, 4))\n",
    "    sns.countplot(x=col, data=df, palette='Set3')\n",
    "    plt.title(f\"Distribution of {col}\")\n",
    "    plt.xticks(rotation=45)\n",
    "    plt.tight_layout()\n",
    "    plt.show()\n"
   ]
  },
  {
   "cell_type": "code",
   "execution_count": null,
   "metadata": {},
   "outputs": [],
   "source": [
    "\n",
    "# 7️⃣ Numerical Feature Distributions + Outlier Detection\n",
    "for col in numerical_cols:\n",
    "    plt.figure(figsize=(10, 4))\n",
    "    sns.histplot(df[col], kde=True, color=\"steelblue\", bins=30)\n",
    "    plt.title(f\"{col} - Distribution\")\n",
    "    plt.xlabel(col)\n",
    "    plt.ylabel(\"Frequency\")\n",
    "    plt.tight_layout()\n",
    "    plt.show()\n",
    "\n",
    "    plt.figure(figsize=(8, 4))\n",
    "    sns.boxplot(x=df[col], color=\"tomato\")\n",
    "    plt.title(f\"{col} - Outlier Detection (Boxplot)\")\n",
    "    plt.tight_layout()\n",
    "    plt.show()\n"
   ]
  },
  {
   "cell_type": "code",
   "execution_count": null,
   "metadata": {},
   "outputs": [],
   "source": [
    "\n",
    "# 8️⃣ Correlation Heatmap\n",
    "corr_matrix = df[numerical_cols].corr()\n",
    "plt.figure(figsize=(12, 8))\n",
    "sns.heatmap(corr_matrix, annot=True, cmap='coolwarm', fmt='.2f', square=True)\n",
    "plt.title(\"📈 Feature Correlation Heatmap (Numerical Only)\")\n",
    "plt.tight_layout()\n",
    "plt.show()\n"
   ]
  },
  {
   "cell_type": "code",
   "execution_count": null,
   "metadata": {},
   "outputs": [],
   "source": [
    "\n",
    "# 9️⃣ Pairplot for Visual Patterns (Optional - heavy for large datasets)\n",
    "# sns.pairplot(df, hue='label', vars=numerical_cols, corner=True, palette='husl')\n",
    "# plt.suptitle(\"Pairplot of Numerical Features by Label\", y=1.02)\n",
    "# plt.show()\n"
   ]
  },
  {
   "cell_type": "code",
   "execution_count": null,
   "metadata": {},
   "outputs": [],
   "source": [
    "\n",
    "# 🔟 Encoding Categorical Columns for Post-Encoding EDA (Optional)\n",
    "from sklearn.preprocessing import LabelEncoder\n",
    "encoded_df = df.copy()\n",
    "label_encoders = {}\n",
    "\n",
    "for col in categorical_cols + ['label']:\n",
    "    le = LabelEncoder()\n",
    "    encoded_df[col] = le.fit_transform(encoded_df[col])\n",
    "    label_encoders[col] = le\n",
    "\n",
    "print(\"\\n✅ Categorical columns encoded for post-EDA visualizations.\")\n",
    "\n",
    "# 🔁 Post-Encoding Correlation Heatmap\n",
    "plt.figure(figsize=(12, 8))\n",
    "sns.heatmap(encoded_df.corr(), annot=True, cmap='YlGnBu', fmt='.2f', square=True)\n",
    "plt.title(\"🔁 Post-Encoding Feature Correlation Heatmap (All Columns)\")\n",
    "plt.tight_layout()\n",
    "plt.show()\n"
   ]
  },
  {
   "cell_type": "code",
   "execution_count": null,
   "metadata": {},
   "outputs": [],
   "source": [
    "encoded_df = df.copy()\n",
    "label_encoders = {}\n",
    "\n",
    "for col in categorical_cols + ['label']:\n",
    "    le = LabelEncoder()\n",
    "    encoded_df[col] = le.fit_transform(encoded_df[col])\n",
    "    label_encoders[col] = le\n",
    "\n",
    "print(\"\\n✅ Categorical columns encoded for post-EDA visualizations.\")\n",
    "\n",
    "# 🔁 Post-Encoding Correlation Heatmap\n",
    "plt.figure(figsize=(12, 8))\n",
    "sns.heatmap(encoded_df.corr(), annot=True, cmap='YlGnBu', fmt='.2f', square=True)\n",
    "plt.title(\"🔁 Post-Encoding Feature Correlation Heatmap (All Columns)\")\n",
    "plt.tight_layout()\n",
    "plt.show()\n"
   ]
  },
  {
   "cell_type": "markdown",
   "metadata": {},
   "source": [
    "### 6️⃣ Label Distribution (Class Imbalance Check) ###\n",
    "if 'label' in df.columns:\n",
    "    plt.figure(figsize=(7, 5))\n",
    "    sns.countplot(x=df['label'], palette=\"viridis\")\n",
    "    plt.title(\"Class Distribution - Normal vs. Malicious Traffic\")\n",
    "    plt.xlabel(\"Traffic Type\")\n",
    "    plt.ylabel(\"Count\")\n",
    "    plt.show()\n",
    "else:\n",
    "    print(\"⚠️ Warning: 'label' column not found in dataset!\")\n",
    "\n",
    "print(\"✅ Exploratory Data Analysis Completed!\")"
   ]
  },
  {
   "cell_type": "markdown",
   "metadata": {},
   "source": [
    "Saved the notebook on 09/02/2025"
   ]
  }
 ],
 "metadata": {
  "kernelspec": {
   "display_name": ".venv",
   "language": "python",
   "name": "python3"
  },
  "language_info": {
   "codemirror_mode": {
    "name": "ipython",
    "version": 3
   },
   "file_extension": ".py",
   "mimetype": "text/x-python",
   "name": "python",
   "nbconvert_exporter": "python",
   "pygments_lexer": "ipython3",
   "version": "3.13.1"
  }
 },
 "nbformat": 4,
 "nbformat_minor": 2
}
