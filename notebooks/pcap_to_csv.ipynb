{
 "cells": [
  {
   "cell_type": "markdown",
   "metadata": {},
   "source": [
    "## Not using this notebook due to heavy data of pcap. instead run pcap_to_csv.py\n",
    "### visit /tests/tshark_csv.py or /tests/pyshark_csv.py (best to deal)"
   ]
  },
  {
   "cell_type": "markdown",
   "metadata": {},
   "source": [
    "### This notebook pcap_to_csv.ipynb is used to prase the .pcap file into .csv file. take file from /data/raw and save into /data/processed"
   ]
  },
  {
   "cell_type": "code",
   "execution_count": null,
   "metadata": {},
   "outputs": [],
   "source": [
    "import pyshark\n",
    "import pandas as pd\n",
    "import os\n",
    "from pathlib import Path\n",
    "\n",
    "# Define input and output file paths\n",
    "RAW_DATA_PATH = Path(\"D:/FYP/data/raw/network_traffic.pcapng\")  # Ensure correct path\n",
    "OUTPUT_PATH = Path(\"D:/FYP/data/processed/traffic_data.csv\")\n",
    "\n",
    "# Ensure output directory exists\n",
    "OUTPUT_PATH.parent.mkdir(parents=True, exist_ok=True)\n",
    "\n",
    "# Check if the input file exists\n",
    "if not RAW_DATA_PATH.exists():\n",
    "    raise FileNotFoundError(f\"Input file not found: {RAW_DATA_PATH}\")"
   ]
  },
  {
   "cell_type": "code",
   "execution_count": null,
   "metadata": {},
   "outputs": [],
   "source": [
    "\n",
    "def process_pcap_to_csv(input_path, output_path):\n",
    "    \"\"\"\n",
    "    Extract network packet features from PCAP/PCAPNG file and save to CSV.\n",
    "    \"\"\"\n",
    "    try:\n",
    "        # Load the PCAP file\n",
    "        capture = pyshark.FileCapture(\n",
    "            str(input_path),\n",
    "            display_filter=\"tcp || udp || icmp\",  # Only capture key protocols\n",
    "            include_raw=False  # Raw data not needed\n",
    "        )\n",
    "\n",
    "        extracted_data = []\n",
    "\n",
    "        # Process packets\n",
    "        for packet in capture:\n",
    "            try:\n",
    "                packet_data = {\n",
    "                    \"timestamp\": packet.sniff_time,  # Timestamp\n",
    "                    \"source_ip\": getattr(packet.ip, \"src\", None),  # Source IP\n",
    "                    \"destination_ip\": getattr(packet.ip, \"dst\", None),  # Destination IP\n",
    "                    \"protocol\": getattr(packet, \"transport_layer\", None),  # Transport layer protocol\n",
    "                    \"packet_size\": getattr(packet, \"length\", None),  # Packet size\n",
    "                    \"info\": packet.highest_layer  # Highest protocol layer\n",
    "                }\n",
    "                extracted_data.append(packet_data)\n",
    "            except AttributeError:\n",
    "                continue  # Skip packets with missing fields\n",
    "\n",
    "        # Close capture\n",
    "        capture.close()\n",
    "\n",
    "        # Convert data to CSV\n",
    "        df = pd.DataFrame(extracted_data)\n",
    "        df.to_csv(output_path, index=False)\n",
    "        print(f\"✅ Data extracted and saved to {output_path}\")\n",
    "\n",
    "    except Exception as e:\n",
    "        print(f\"❌ Error processing PCAP file: {e}\")\n",
    "\n",
    "if __name__ == \"__main__\":\n",
    "    process_pcap_to_csv(RAW_DATA_PATH, OUTPUT_PATH)\n"
   ]
  }
 ],
 "metadata": {
  "kernelspec": {
   "display_name": ".venv",
   "language": "python",
   "name": "python3"
  },
  "language_info": {
   "name": "python",
   "version": "3.13.1"
  }
 },
 "nbformat": 4,
 "nbformat_minor": 2
}
