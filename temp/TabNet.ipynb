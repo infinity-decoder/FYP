{
 "cells": [
  {
   "cell_type": "code",
   "execution_count": null,
   "metadata": {},
   "outputs": [],
   "source": [
    "import torch\n",
    "import numpy as np\n",
    "import pandas as pd\n",
    "from pytorch_tabnet.tab_model import TabNetClassifier\n",
    "from sklearn.model_selection import train_test_split\n",
    "from sklearn.metrics import accuracy_score, classification_report\n",
    "\n",
    "# Load dataset\n",
    "data = pd.read_csv(\"data/processed/final_dataset.csv\")\n",
    "\n",
    "# Split features and target\n",
    "X = data.drop(columns=['label'])  # Assuming 'label' is the target column\n",
    "y = data['label']\n",
    "\n",
    "# Train-test split\n",
    "X_train, X_test, y_train, y_test = train_test_split(X, y, test_size=0.2, random_state=42)\n",
    "\n",
    "# Convert to numpy arrays\n",
    "X_train = X_train.values\n",
    "y_train = y_train.values\n",
    "X_test = X_test.values\n",
    "y_test = y_test.values\n",
    "\n",
    "# Initialize TabNet model\n",
    "tabnet_model = TabNetClassifier()\n",
    "\n",
    "# Train the model\n",
    "tabnet_model.fit(X_train, y_train, eval_set=[(X_test, y_test)], eval_metric=['accuracy'], max_epochs=100, patience=10)\n",
    "\n",
    "# Make predictions\n",
    "y_pred = tabnet_model.predict(X_test)\n",
    "\n",
    "# Evaluate the model\n",
    "accuracy = accuracy_score(y_test, y_pred)\n",
    "print(\"Accuracy:\", accuracy)\n",
    "print(classification_report(y_test, y_pred))\n",
    "\n",
    "# Save the trained model in .pt format\n",
    "torch.save(tabnet_model.network.state_dict(), \"models/trained_models/tabnet_model.pt\")\n",
    "print(\"TabNet model saved successfully at models/trained_models/tabnet_model.pt\")\n",
    "\n",
    "# Loading the saved model\n",
    "def load_tabnet_model(model_path):\n",
    "    model = TabNetClassifier()\n",
    "    model.network.load_state_dict(torch.load(model_path))\n",
    "    return model\n",
    "\n",
    "# Example of loading the model\n",
    "loaded_model = load_tabnet_model(\"models/trained_models/tabnet_model.pt\")\n",
    "print(\"Model loaded successfully!\")\n"
   ]
  }
 ],
 "metadata": {
  "kernelspec": {
   "display_name": ".venv",
   "language": "python",
   "name": "python3"
  },
  "language_info": {
   "name": "python",
   "version": "3.13.1"
  }
 },
 "nbformat": 4,
 "nbformat_minor": 2
}
