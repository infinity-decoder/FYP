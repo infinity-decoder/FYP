{
 "cells": [
  {
   "cell_type": "markdown",
   "metadata": {},
   "source": [
    "This file (data_preparation.ipynb) takes csv to make it final dataset. from data/processed  and save to data/datasets"
   ]
  },
  {
   "cell_type": "code",
   "execution_count": null,
   "metadata": {},
   "outputs": [],
   "source": [
    "import pandas as pd\n",
    "import numpy as np\n",
    "import seaborn as sns\n",
    "import matplotlib.pyplot as plt\n",
    "from sklearn.preprocessing import LabelEncoder, MinMaxScaler\n",
    "\n",
    "# Set Seaborn Style\n",
    "sns.set(style=\"whitegrid\")\n",
    "\n",
    "# File Paths\n",
    "RAW_CSV_PATH = \"D:/FYP/data/processed/traffic_data_03.csv\"\n",
    "PROCESSED_CSV_PATH = \"D:/FYP/data/datasets/final_dataset.csv\"\n",
    "\n",
    "# Load Dataset\n",
    "df = pd.read_csv(RAW_CSV_PATH)\n",
    "print(f\"Dataset contains {df.shape[0]} rows and {df.shape[1]} columns before processing.\\n\")\n",
    "\n",
    "# Display first few rows\n",
    "display(df.head())"
   ]
  },
  {
   "cell_type": "code",
   "execution_count": null,
   "metadata": {},
   "outputs": [],
   "source": [
    "# Step 1: Handle Missing Values\n",
    "print(\"Checking missing values before processing:\")\n",
    "print(df.isnull().sum())\n",
    "\n",
    "# Fill missing values\n",
    "for col in df.select_dtypes(include=['object']).columns:\n",
    "    df[col].fillna(df[col].mode()[0], inplace=True)  # Fill categorical with mode\n",
    "for col in df.select_dtypes(include=['number']).columns:\n",
    "    df[col].fillna(df[col].median(), inplace=True)  # Fill numeric with median\n",
    "\n",
    "print(\"\\nMissing values after handling:\")\n",
    "print(df.isnull().sum())"
   ]
  },
  {
   "cell_type": "code",
   "execution_count": null,
   "metadata": {},
   "outputs": [],
   "source": [
    "# Step 2: Remove Duplicates\n",
    "df.drop_duplicates(inplace=True)\n",
    "print(f\"\\nDataset now contains {df.shape[0]} rows after removing duplicates.\\n\")"
   ]
  },
  {
   "cell_type": "code",
   "execution_count": null,
   "metadata": {},
   "outputs": [],
   "source": [
    "# Step 3: Convert Timestamp Column\n",
    "df['timestamp'] = pd.to_datetime(df['timestamp'])\n",
    "df['hour'] = df['timestamp'].dt.hour\n",
    "df['minute'] = df['timestamp'].dt.minute\n",
    "df['second'] = df['timestamp'].dt.second\n",
    "df.drop(columns=['timestamp'], inplace=True)  # Drop original timestamp column"
   ]
  },
  {
   "cell_type": "code",
   "execution_count": null,
   "metadata": {},
   "outputs": [],
   "source": [
    "# Step 4: Encode Categorical Features\n",
    "label_encoder = LabelEncoder()\n",
    "df['protocol'] = label_encoder.fit_transform(df['protocol'])\n",
    "df['source_ip'] = label_encoder.fit_transform(df['source_ip'])\n",
    "df['destination_ip'] = label_encoder.fit_transform(df['destination_ip'])"
   ]
  },
  {
   "cell_type": "code",
   "execution_count": null,
   "metadata": {},
   "outputs": [],
   "source": [
    "# Step 5: Normalize Numerical Features\n",
    "scaler = MinMaxScaler()\n",
    "numeric_columns = ['packet_size', 'time_interval']  # Adjust if more numeric columns exist\n",
    "df[numeric_columns] = scaler.fit_transform(df[numeric_columns])"
   ]
  },
  {
   "cell_type": "code",
   "execution_count": null,
   "metadata": {},
   "outputs": [],
   "source": [
    "# Step 6: Convert Attack Type to Binary Classification (0 = Normal, 1 = Malicious)\n",
    "attack_types = {\n",
    "    'normal': 0,\n",
    "    'attack': 1  # will Modify if there are multiple attack categories\n",
    "}\n",
    "df['label'] = df['attack_category'].map(attack_types)\n",
    "df.drop(columns=['attack_category'], inplace=True)"
   ]
  },
  {
   "cell_type": "code",
   "execution_count": null,
   "metadata": {},
   "outputs": [],
   "source": [
    "# Step 7: Save Processed Data\n",
    "df.to_csv(PROCESSED_CSV_PATH, index=False)\n",
    "print(f\"✅ Processed dataset saved to {PROCESSED_CSV_PATH}\")"
   ]
  }
 ],
 "metadata": {
  "kernelspec": {
   "display_name": ".venv",
   "language": "python",
   "name": "python3"
  },
  "language_info": {
   "codemirror_mode": {
    "name": "ipython",
    "version": 3
   },
   "file_extension": ".py",
   "mimetype": "text/x-python",
   "name": "python",
   "nbconvert_exporter": "python",
   "pygments_lexer": "ipython3",
   "version": "3.13.1"
  }
 },
 "nbformat": 4,
 "nbformat_minor": 2
}
