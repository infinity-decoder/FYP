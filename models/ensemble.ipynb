{
 "cells": [
  {
   "cell_type": "code",
   "execution_count": null,
   "metadata": {},
   "outputs": [],
   "source": [
    "#used this file\n",
    "# STACKING ENSEMBLE WITH TABNET AS META MODEL\n",
    "\n",
    "\n",
    "# 1️⃣ Import Libraries\n",
    "import numpy as np\n",
    "import pandas as pd\n",
    "import joblib\n",
    "import os\n",
    "import torch  # Import PyTorch\n",
    "from sklearn.model_selection import train_test_split\n",
    "from sklearn.metrics import accuracy_score, classification_report, confusion_matrix\n",
    "from pytorch_tabnet.tab_model import TabNetClassifier\n",
    "import matplotlib.pyplot as plt\n",
    "import seaborn as sns\n",
    "from sklearn.preprocessing import StandardScaler\n",
    "import xgboost as xgb  # Import XGBoost native API\n"
   ]
  },
  {
   "cell_type": "code",
   "execution_count": 12,
   "metadata": {},
   "outputs": [],
   "source": [
    "\n",
    "# 2️⃣ Load Dataset (Final Preprocessed CSV)\n",
    "df = pd.read_csv(\"D:/FYP/data/datasets/final_dataset_02.csv\")\n",
    "\n",
    "# Separate features and labels\n",
    "X = df.drop(columns=['label'])\n",
    "y = df['label'].astype(int)\n"
   ]
  },
  {
   "cell_type": "code",
   "execution_count": 13,
   "metadata": {},
   "outputs": [],
   "source": [
    "\n",
    "# 3️⃣ Load Base Models' Predictions\n",
    "# Base models were trained and saved in .pkl format in the trained_models folder\n",
    "base_model_paths = {\n",
    "    \"xgboost\": \"D:/FYP/models/trained_models/xgboost_native_model.pkl\",  # Native XGBoost model\n",
    "    \"lightgbm\": \"D:/FYP/models/trained_models/lightgbm_intrusion_detection.pkl\"  # LightGBM model\n",
    "}\n",
    "\n",
    "# Load trained base models\n",
    "#xgb_model = xgb.Booster()  # Load native XGBoost model\n",
    "xgb_model= joblib.load(base_model_paths[\"xgboost\"])\n",
    "\n",
    "lgb_model = joblib.load(base_model_paths[\"lightgbm\"])  # Load LightGBM model\n"
   ]
  },
  {
   "cell_type": "code",
   "execution_count": 14,
   "metadata": {},
   "outputs": [
    {
     "name": "stderr",
     "output_type": "stream",
     "text": [
      "d:\\FYP\\.venv\\Lib\\site-packages\\joblib\\externals\\loky\\backend\\context.py:136: UserWarning: Could not find the number of physical cores for the following reason:\n",
      "[WinError 2] The system cannot find the file specified\n",
      "Returning the number of logical cores instead. You can silence this warning by setting LOKY_MAX_CPU_COUNT to the number of cores you want to use.\n",
      "  warnings.warn(\n",
      "  File \"d:\\FYP\\.venv\\Lib\\site-packages\\joblib\\externals\\loky\\backend\\context.py\", line 257, in _count_physical_cores\n",
      "    cpu_info = subprocess.run(\n",
      "        \"wmic CPU Get NumberOfCores /Format:csv\".split(),\n",
      "        capture_output=True,\n",
      "        text=True,\n",
      "    )\n",
      "  File \"C:\\Users\\MAHBOOB ALAM\\AppData\\Local\\Programs\\Python\\Python313\\Lib\\subprocess.py\", line 554, in run\n",
      "    with Popen(*popenargs, **kwargs) as process:\n",
      "         ~~~~~^^^^^^^^^^^^^^^^^^^^^^\n",
      "  File \"C:\\Users\\MAHBOOB ALAM\\AppData\\Local\\Programs\\Python\\Python313\\Lib\\subprocess.py\", line 1036, in __init__\n",
      "    self._execute_child(args, executable, preexec_fn, close_fds,\n",
      "    ~~~~~~~~~~~~~~~~~~~^^^^^^^^^^^^^^^^^^^^^^^^^^^^^^^^^^^^^^^^^\n",
      "                        pass_fds, cwd, env,\n",
      "                        ^^^^^^^^^^^^^^^^^^^\n",
      "    ...<5 lines>...\n",
      "                        gid, gids, uid, umask,\n",
      "                        ^^^^^^^^^^^^^^^^^^^^^^\n",
      "                        start_new_session, process_group)\n",
      "                        ^^^^^^^^^^^^^^^^^^^^^^^^^^^^^^^^^\n",
      "  File \"C:\\Users\\MAHBOOB ALAM\\AppData\\Local\\Programs\\Python\\Python313\\Lib\\subprocess.py\", line 1548, in _execute_child\n",
      "    hp, ht, pid, tid = _winapi.CreateProcess(executable, args,\n",
      "                       ~~~~~~~~~~~~~~~~~~~~~^^^^^^^^^^^^^^^^^^\n",
      "                             # no special security\n",
      "                             ^^^^^^^^^^^^^^^^^^^^^\n",
      "    ...<4 lines>...\n",
      "                             cwd,\n",
      "                             ^^^^\n",
      "                             startupinfo)\n",
      "                             ^^^^^^^^^^^^\n"
     ]
    }
   ],
   "source": [
    "\n",
    "# 4️⃣ Generate Base Model Predictions (as Meta Features)\n",
    "# Split dataset\n",
    "X_train, X_test, y_train, y_test = train_test_split(\n",
    "    X, y, test_size=0.2, stratify=y, random_state=42\n",
    ")\n",
    "\n",
    "# Convert X_train and X_test to DMatrix for XGBoost predictions\n",
    "xgb_train_dmatrix = xgb.DMatrix(X_train)\n",
    "xgb_test_dmatrix = xgb.DMatrix(X_test)\n",
    "\n",
    "# Get base model predictions (probabilities recommended for stacking)\n",
    "xgb_train_preds = xgb_model.predict(xgb_train_dmatrix)  # XGBoost predictions\n",
    "xgb_test_preds = xgb_model.predict(xgb_test_dmatrix)\n",
    "\n",
    "lgb_train_preds = lgb_model.predict_proba(X_train)[:, 1]  # LightGBM predictions\n",
    "lgb_test_preds = lgb_model.predict_proba(X_test)[:, 1]\n",
    "\n",
    "# Create new meta-feature dataset for TabNet\n",
    "X_meta_train = np.vstack((xgb_train_preds, lgb_train_preds)).T\n",
    "X_meta_test = np.vstack((xgb_test_preds, lgb_test_preds)).T\n"
   ]
  },
  {
   "cell_type": "code",
   "execution_count": 15,
   "metadata": {},
   "outputs": [],
   "source": [
    "\n",
    "# 5️⃣ Normalize Meta Features\n",
    "scaler = StandardScaler()\n",
    "X_meta_train_scaled = scaler.fit_transform(X_meta_train)\n",
    "X_meta_test_scaled = scaler.transform(X_meta_test)\n"
   ]
  },
  {
   "cell_type": "code",
   "execution_count": null,
   "metadata": {},
   "outputs": [
    {
     "name": "stderr",
     "output_type": "stream",
     "text": [
      "d:\\FYP\\.venv\\Lib\\site-packages\\pytorch_tabnet\\abstract_model.py:82: UserWarning: Device used : cpu\n",
      "  warnings.warn(f\"Device used : {self.device}\")\n"
     ]
    },
    {
     "name": "stdout",
     "output_type": "stream",
     "text": [
      "epoch 0  | loss: 0.02185 | valid_accuracy: 0.99996 |  0:00:26s\n",
      "epoch 10 | loss: 0.00015 | valid_accuracy: 0.99996 |  0:04:43s\n",
      "epoch 20 | loss: 0.00018 | valid_accuracy: 1.0     |  0:09:01s\n",
      "\n",
      "Early stopping occurred at epoch 22 with best_epoch = 2 and best_valid_accuracy = 1.0\n"
     ]
    },
    {
     "name": "stderr",
     "output_type": "stream",
     "text": [
      "d:\\FYP\\.venv\\Lib\\site-packages\\pytorch_tabnet\\callbacks.py:172: UserWarning: Best weights from best epoch are automatically used!\n",
      "  warnings.warn(wrn_msg)\n"
     ]
    }
   ],
   "source": [
    "\n",
    "\n",
    "\n",
    "# 6️⃣ Initialize TabNet Classifier\n",
    "tabnet_model = TabNetClassifier(\n",
    "    n_d=8, n_a=8,\n",
    "    n_steps=3,\n",
    "    gamma=1.5,\n",
    "    lambda_sparse=1e-4,\n",
    "    optimizer_fn=torch.optim.Adam,\n",
    "    optimizer_params=dict(lr=2e-2),\n",
    "    mask_type='sparsemax',\n",
    "    verbose=10,\n",
    "    seed=42\n",
    ")\n",
    "\n",
    "# 7️⃣ Train the TabNet Meta Model\n",
    "tabnet_model.fit(\n",
    "    X_meta_train_scaled, y_train.values,\n",
    "    eval_set=[(X_meta_test_scaled, y_test.values)],\n",
    "    eval_name=[\"valid\"],\n",
    "    eval_metric=[\"accuracy\"],\n",
    "    max_epochs=100,\n",
    "    patience=20,\n",
    "    batch_size=512,\n",
    "    virtual_batch_size=128,\n",
    "    num_workers=0\n",
    ")\n"
   ]
  },
  {
   "cell_type": "code",
   "execution_count": 18,
   "metadata": {},
   "outputs": [
    {
     "name": "stdout",
     "output_type": "stream",
     "text": [
      "\n",
      "✅ Meta Model Accuracy: 1.0000\n",
      "\n",
      "✅ Classification Report:\n",
      "               precision    recall  f1-score   support\n",
      "\n",
      "           0       1.00      1.00      1.00     13386\n",
      "           1       1.00      1.00      1.00     13385\n",
      "\n",
      "    accuracy                           1.00     26771\n",
      "   macro avg       1.00      1.00      1.00     26771\n",
      "weighted avg       1.00      1.00      1.00     26771\n",
      "\n"
     ]
    }
   ],
   "source": [
    "\n",
    "# 8️⃣ Meta Model Predictions & Evaluation\n",
    "y_meta_pred = tabnet_model.predict(X_meta_test_scaled)\n",
    "\n",
    "# Evaluation\n",
    "accuracy = accuracy_score(y_test, y_meta_pred)\n",
    "print(f\"\\n✅ Meta Model Accuracy: {accuracy:.4f}\")\n",
    "print(\"\\n✅ Classification Report:\\n\", classification_report(y_test, y_meta_pred))\n"
   ]
  },
  {
   "cell_type": "code",
   "execution_count": 19,
   "metadata": {},
   "outputs": [
    {
     "data": {
      "image/png": "[encoded data removed]",
      "text/plain": [
       "<Figure size 600x400 with 2 Axes>"
      ]
     },
     "metadata": {},
     "output_type": "display_data"
    }
   ],
   "source": [
    "\n",
    "# Confusion Matrix\n",
    "conf_matrix = confusion_matrix(y_test, y_meta_pred)\n",
    "plt.figure(figsize=(6,4))\n",
    "sns.heatmap(conf_matrix, annot=True, fmt='d', cmap='Blues', xticklabels=['Normal', 'Attack'], yticklabels=['Normal', 'Attack'])\n",
    "plt.title(\"TabNet Meta Model Confusion Matrix\")\n",
    "plt.xlabel(\"Predicted\")\n",
    "plt.ylabel(\"Actual\")\n",
    "plt.tight_layout()\n",
    "plt.show()\n"
   ]
  },
  {
   "cell_type": "code",
   "execution_count": 20,
   "metadata": {},
   "outputs": [
    {
     "name": "stdout",
     "output_type": "stream",
     "text": [
      "✅ TabNet Meta Model saved at: D:/FYP/models/trained_models/tabnet_meta_model.pkl\n",
      "✅ Meta feature scaler saved at: D:/FYP/models/trained_models/meta_scaler.pkl\n"
     ]
    }
   ],
   "source": [
    "\n",
    "# 9️⃣ Save the Meta Model\n",
    "os.makedirs(\"D:/FYP/models/trained_models\", exist_ok=True)\n",
    "joblib.dump(tabnet_model, \"D:/FYP/models/trained_models/tabnet_meta_model.pkl\")\n",
    "print(\"✅ TabNet Meta Model saved at: D:/FYP/models/trained_models/tabnet_meta_model.pkl\")\n",
    "\n",
    "# Save the scaler too (important during inference)\n",
    "joblib.dump(scaler, \"D:/FYP/models/trained_models/meta_scaler.pkl\")\n",
    "print(\"✅ Meta feature scaler saved at: D:/FYP/models/trained_models/meta_scaler.pkl\")"
   ]
  }
 ],
 "metadata": {
  "kernelspec": {
   "display_name": ".venv",
   "language": "python",
   "name": "python3"
  },
  "language_info": {
   "codemirror_mode": {
    "name": "ipython",
    "version": 3
   },
   "file_extension": ".py",
   "mimetype": "text/x-python",
   "name": "python",
   "nbconvert_exporter": "python",
   "pygments_lexer": "ipython3",
   "version": "3.13.1"
  }
 },
 "nbformat": 4,
 "nbformat_minor": 2
}
