{
 "cells": [
  {
   "cell_type": "code",
   "execution_count": null,
   "metadata": {},
   "outputs": [],
   "source": [
    "# 1️⃣ IMPORT REQUIRED LIBRARIES\n",
    "import pandas as pd\n",
    "import numpy as np\n",
    "from catboost import CatBoostClassifier\n",
    "from sklearn.model_selection import train_test_split\n",
    "from sklearn.metrics import accuracy_score, classification_report, roc_auc_score\n",
    "import joblib\n",
    "import os\n"
   ]
  },
  {
   "cell_type": "code",
   "execution_count": null,
   "metadata": {},
   "outputs": [],
   "source": [
    "\n",
    "# 2️⃣ LOAD PREPROCESSED DATASET\n",
    "# Adjust the path to your dataset location\n",
    "df = pd.read_csv(\"D:/FYP/data/datasets/final_dataset_02.csv\")\n"
   ]
  },
  {
   "cell_type": "code",
   "execution_count": null,
   "metadata": {},
   "outputs": [],
   "source": [
    "\n",
    "# 3️⃣ DEFINE FEATURES (X) AND LABEL (y)\n",
    "X = df.drop(columns=['label'])         # All input features\n",
    "y = df['label'].astype(int)            # Binary target variable (0 = Normal, 1 = Attack)\n"
   ]
  },
  {
   "cell_type": "code",
   "execution_count": null,
   "metadata": {},
   "outputs": [],
   "source": [
    "\n",
    "# 4️⃣ TRAIN-TEST SPLIT\n",
    "X_train, X_test, y_train, y_test = train_test_split(\n",
    "    X, y, test_size=0.2, random_state=42, stratify=y\n",
    ")\n"
   ]
  },
  {
   "cell_type": "code",
   "execution_count": null,
   "metadata": {},
   "outputs": [],
   "source": [
    "\n",
    "#  5️⃣ INITIALIZE CATBOOST CLASSIFIER\n",
    "catboost_model = CatBoostClassifier(\n",
    "    iterations=500,                  # Number of boosting rounds\n",
    "    learning_rate=0.1,               # Step size\n",
    "    depth=6,                         # Tree depth\n",
    "    loss_function='Logloss',        # Binary classification loss\n",
    "    eval_metric='AUC',              # Evaluation metric\n",
    "    early_stopping_rounds=50,       # Stop training if no improvement\n",
    "    verbose=100,                    # Print progress\n",
    "    random_seed=42\n",
    ")\n"
   ]
  },
  {
   "cell_type": "code",
   "execution_count": null,
   "metadata": {},
   "outputs": [],
   "source": [
    "\n",
    "#  6️⃣ TRAIN THE MODEL\n",
    "catboost_model.fit(\n",
    "    X_train, y_train,\n",
    "    eval_set=(X_test, y_test),\n",
    "    use_best_model=True,\n",
    "    verbose=100\n",
    ")\n"
   ]
  },
  {
   "cell_type": "code",
   "execution_count": null,
   "metadata": {},
   "outputs": [],
   "source": [
    "\n",
    "#  7️⃣ MAKE PREDICTIONS\n",
    "y_pred = catboost_model.predict(X_test)\n",
    "y_pred_proba = catboost_model.predict_proba(X_test)[:, 1]  # Probability for ROC-AUC\n"
   ]
  },
  {
   "cell_type": "code",
   "execution_count": null,
   "metadata": {},
   "outputs": [],
   "source": [
    "\n",
    "#  8️⃣ EVALUATE PERFORMANCE\n",
    "print(\"\\n✅ Model Evaluation:\")\n",
    "print(\"Accuracy:\", accuracy_score(y_test, y_pred))\n",
    "print(\"ROC AUC Score:\", roc_auc_score(y_test, y_pred_proba))\n",
    "print(\"Classification Report:\\n\", classification_report(y_test, y_pred))\n"
   ]
  },
  {
   "cell_type": "code",
   "execution_count": null,
   "metadata": {},
   "outputs": [],
   "source": [
    "\n",
    "# 9️⃣ SAVE TRAINED MODEL IN .PKL FORMAT\n",
    "os.makedirs(\"trained_models\", exist_ok=True)  # Create 'trained_models' folder if not exists\n",
    "joblib.dump(catboost_model, \"models/trained_models/catboost_intrusion_detection.pkl\")\n",
    "print(\"✅ CatBoost model saved successfully at: models/trained_models/catboost_intrusion_detection.pkl\")\n"
   ]
  }
 ],
 "metadata": {
  "kernelspec": {
   "display_name": ".venv",
   "language": "python",
   "name": "python3"
  },
  "language_info": {
   "name": "python",
   "version": "3.13.1"
  }
 },
 "nbformat": 4,
 "nbformat_minor": 2
}
