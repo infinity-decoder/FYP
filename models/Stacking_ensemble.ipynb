{
 "cells": [
  {
   "cell_type": "code",
   "execution_count": null,
   "metadata": {},
   "outputs": [],
   "source": [
    "\n",
    "# STACKING ENSEMBLE WITH TABNET AS META MODEL\n",
    "\n",
    "\n",
    "# 1️⃣ Import Libraries\n",
    "\n",
    "import numpy as np\n",
    "import pandas as pd\n",
    "import joblib\n",
    "import os\n",
    "from sklearn.model_selection import train_test_split\n",
    "from sklearn.metrics import accuracy_score, classification_report, confusion_matrix\n",
    "from pytorch_tabnet.tab_model import TabNetClassifier\n",
    "import matplotlib.pyplot as plt\n",
    "import seaborn as sns\n",
    "from sklearn.preprocessing import StandardScaler\n"
   ]
  },
  {
   "cell_type": "code",
   "execution_count": 3,
   "metadata": {},
   "outputs": [],
   "source": [
    "# 2️⃣ Load Dataset (Final Preprocessed CSV)\n",
    "\n",
    "df = pd.read_csv(\"D:/FYP/data/datasets/final_dataset_02.csv\")\n",
    "\n",
    "# Separate features and labels\n",
    "X = df.drop(columns=['label'])\n",
    "y = df['label'].astype(int)\n"
   ]
  },
  {
   "cell_type": "code",
   "execution_count": 5,
   "metadata": {},
   "outputs": [],
   "source": [
    "# 3️⃣ Load Base Models' Predictions\n",
    "\n",
    "\n",
    "# base models were trained and saved in .pkl format in the trained_models folder\n",
    "base_model_paths = {\n",
    "    \"xgboost\": \"D:/FYP/models/trained_models/xgboost_native_model.pkl\",\n",
    "    #\"catboost\": \"models/trained_models/catboost_intrusion_detection.pkl\",\n",
    "    \"lightgbm\": \"D:/FYP/models/trained_models//lightgbm_intrusion_detection.pkl\"\n",
    "}\n",
    "\n",
    "# Load trained base models\n",
    "xgb_model = joblib.load(base_model_paths[\"xgboost\"])\n",
    "#cat_model = joblib.load(base_model_paths[\"catboost\"])\n",
    "lgb_model = joblib.load(base_model_paths[\"lightgbm\"])\n"
   ]
  },
  {
   "cell_type": "code",
   "execution_count": null,
   "metadata": {},
   "outputs": [
    {
     "ename": "AttributeError",
     "evalue": "'Booster' object has no attribute 'predict_proba'",
     "output_type": "error",
     "traceback": [
      "\u001b[1;31m---------------------------------------------------------------------------\u001b[0m",
      "\u001b[1;31mAttributeError\u001b[0m                            Traceback (most recent call last)",
      "Cell \u001b[1;32mIn[6], line 11\u001b[0m\n\u001b[0;32m      6\u001b[0m X_train, X_test, y_train, y_test \u001b[38;5;241m=\u001b[39m train_test_split(\n\u001b[0;32m      7\u001b[0m     X, y, test_size\u001b[38;5;241m=\u001b[39m\u001b[38;5;241m0.2\u001b[39m, stratify\u001b[38;5;241m=\u001b[39my, random_state\u001b[38;5;241m=\u001b[39m\u001b[38;5;241m42\u001b[39m\n\u001b[0;32m      8\u001b[0m )\n\u001b[0;32m     10\u001b[0m \u001b[38;5;66;03m# Get base model predictions (probabilities recommended for stacking)\u001b[39;00m\n\u001b[1;32m---> 11\u001b[0m xgb_train_preds \u001b[38;5;241m=\u001b[39m \u001b[43mxgb_model\u001b[49m\u001b[38;5;241;43m.\u001b[39;49m\u001b[43mpredict_proba\u001b[49m(X_train)[:, \u001b[38;5;241m1\u001b[39m]\n\u001b[0;32m     12\u001b[0m xgb_test_preds \u001b[38;5;241m=\u001b[39m xgb_model\u001b[38;5;241m.\u001b[39mpredict_proba(X_test)[:, \u001b[38;5;241m1\u001b[39m]\n\u001b[0;32m     14\u001b[0m \u001b[38;5;66;03m# cat_train_preds = cat_model.predict_proba(X_train)[:, 1]\u001b[39;00m\n\u001b[0;32m     15\u001b[0m \u001b[38;5;66;03m# cat_test_preds = cat_model.predict_proba(X_test)[:, 1]\u001b[39;00m\n",
      "\u001b[1;31mAttributeError\u001b[0m: 'Booster' object has no attribute 'predict_proba'"
     ]
    }
   ],
   "source": [
    "# 4️⃣ Generate Base Model Predictions (as Meta Features)\n",
    "\n",
    "# These predictions become input features for TabNet (meta model)\n",
    "\n",
    "# Split dataset\n",
    "X_train, X_test, y_train, y_test = train_test_split(\n",
    "    X, y, test_size=0.2, stratify=y, random_state=42\n",
    ")\n",
    "\n",
    "# Get base model predictions (probabilities recommended for stacking)\n",
    "xgb_train_preds = xgb_model.predict_proba(X_train)[:, 1]\n",
    "xgb_test_preds = xgb_model.predict_proba(X_test)[:, 1]\n",
    "\n",
    "# cat_train_preds = cat_model.predict_proba(X_train)[:, 1]\n",
    "# cat_test_preds = cat_model.predict_proba(X_test)[:, 1]\n",
    "\n",
    "lgb_train_preds = lgb_model.predict_proba(X_train)[:, 1]\n",
    "lgb_test_preds = lgb_model.predict_proba(X_test)[:, 1]\n",
    "\n",
    "# Create new meta-feature dataset for TabNet  will uncomment if catboost issue solved\n",
    "# X_meta_train = np.vstack((xgb_train_preds, cat_train_preds, lgb_train_preds)).T\n",
    "# X_meta_test = np.vstack((xgb_test_preds, cat_test_preds, lgb_test_preds)).T\n",
    "X_meta_train = np.vstack((xgb_train_preds,  lgb_train_preds)).T\n",
    "X_meta_test = np.vstack((xgb_test_preds,  lgb_test_preds)).T"
   ]
  },
  {
   "cell_type": "code",
   "execution_count": null,
   "metadata": {},
   "outputs": [],
   "source": [
    "# 5️⃣ Normalize Meta Features\n",
    "\n",
    "scaler = StandardScaler()\n",
    "X_meta_train_scaled = scaler.fit_transform(X_meta_train)\n",
    "X_meta_test_scaled = scaler.transform(X_meta_test)\n"
   ]
  },
  {
   "cell_type": "code",
   "execution_count": null,
   "metadata": {},
   "outputs": [],
   "source": [
    "# 6️⃣ Initialize TabNet Classifier\n",
    "\n",
    "tabnet_model = TabNetClassifier(\n",
    "    n_d=8, n_a=8,\n",
    "    n_steps=3,\n",
    "    gamma=1.5,\n",
    "    lambda_sparse=1e-4,\n",
    "    optimizer_fn=torch.optim.Adam,\n",
    "    optimizer_params=dict(lr=2e-2),\n",
    "    mask_type='sparsemax',\n",
    "    verbose=10,\n",
    "    seed=42\n",
    ")\n"
   ]
  },
  {
   "cell_type": "code",
   "execution_count": null,
   "metadata": {},
   "outputs": [],
   "source": [
    "# 7️⃣ Train the TabNet Meta Model\n",
    "\n",
    "tabnet_model.fit(\n",
    "    X_meta_train_scaled, y_train.values,\n",
    "    eval_set=[(X_meta_test_scaled, y_test.values)],\n",
    "    eval_name=[\"valid\"],\n",
    "    eval_metric=[\"accuracy\"],\n",
    "    max_epochs=100,\n",
    "    patience=20,\n",
    "    batch_size=512,\n",
    "    virtual_batch_size=128,\n",
    "    num_workers=0\n",
    ")\n"
   ]
  },
  {
   "cell_type": "code",
   "execution_count": null,
   "metadata": {},
   "outputs": [],
   "source": [
    "# 8️⃣ Meta Model Predictions & Evaluation\n",
    "\n",
    "y_meta_pred = tabnet_model.predict(X_meta_test_scaled)\n",
    "\n",
    "# Evaluation\n",
    "accuracy = accuracy_score(y_test, y_meta_pred)\n",
    "print(f\"\\n✅ Meta Model Accuracy: {accuracy:.4f}\")\n",
    "print(\"\\n✅ Classification Report:\\n\", classification_report(y_test, y_meta_pred))\n",
    "\n",
    "# Confusion Matrix\n",
    "conf_matrix = confusion_matrix(y_test, y_meta_pred)\n",
    "plt.figure(figsize=(6,4))\n",
    "sns.heatmap(conf_matrix, annot=True, fmt='d', cmap='Blues', xticklabels=['Normal', 'Attack'], yticklabels=['Normal', 'Attack'])\n",
    "plt.title(\"TabNet Meta Model Confusion Matrix\")\n",
    "plt.xlabel(\"Predicted\")\n",
    "plt.ylabel(\"Actual\")\n",
    "plt.tight_layout()\n",
    "plt.show()\n"
   ]
  },
  {
   "cell_type": "code",
   "execution_count": null,
   "metadata": {},
   "outputs": [],
   "source": [
    "# 9️⃣ Save the Meta Model\n",
    "\n",
    "os.makedirs(\"D:/FYP/models/trained_models\", exist_ok=True)\n",
    "joblib.dump(tabnet_model, \"D:/FYP/models/trained_models/tabnet_meta_model.pkl\")\n",
    "print(\"✅ TabNet Meta Model saved at: models/trained_models/tabnet_meta_model.pkl\")\n",
    "\n",
    "# Save the scaler too (important during inference)\n",
    "joblib.dump(scaler, \"D:/FYP/models/trained_models/meta_scaler.pkl\")\n",
    "print(\"✅ Meta feature scaler saved at: D:/FYP/models/trained_models/meta_scaler.pkl\")\n"
   ]
  }
 ],
 "metadata": {
  "kernelspec": {
   "display_name": ".venv",
   "language": "python",
   "name": "python3"
  },
  "language_info": {
   "codemirror_mode": {
    "name": "ipython",
    "version": 3
   },
   "file_extension": ".py",
   "mimetype": "text/x-python",
   "name": "python",
   "nbconvert_exporter": "python",
   "pygments_lexer": "ipython3",
   "version": "3.13.1"
  }
 },
 "nbformat": 4,
 "nbformat_minor": 2
}
