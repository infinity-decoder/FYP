{
 "cells": [
  {
   "cell_type": "markdown",
   "metadata": {},
   "source": [
    "To understand and clear basic to perform operations on data."
   ]
  },
  {
   "cell_type": "code",
   "execution_count": 28,
   "metadata": {},
   "outputs": [],
   "source": [
    "import pandas as pd\n",
    "import numpy as np\n",
    "import seaborn as sns\n",
    "import matplotlib.pyplot as plt\n",
    "from sklearn.preprocessing import LabelEncoder, MinMaxScaler\n",
    "\n"
   ]
  },
  {
   "cell_type": "code",
   "execution_count": 29,
   "metadata": {},
   "outputs": [],
   "source": [
    "# File Paths\n",
    "RAW_CSV_PATH = \"D:/FYP/data/processed/Attack ICMP flood.csv\"\n",
    "PROCESSED_CSV_PATH = \"D:/FYP/data/processed/final_dataset_03.csv\"\n",
    "\n"
   ]
  },
  {
   "cell_type": "code",
   "execution_count": 30,
   "metadata": {},
   "outputs": [
    {
     "name": "stdout",
     "output_type": "stream",
     "text": [
      "Dataset contains 28731 rows and 10 columns before processing.\n",
      "\n"
     ]
    },
    {
     "data": {
      "text/html": [
       "<div>\n",
       "<style scoped>\n",
       "    .dataframe tbody tr th:only-of-type {\n",
       "        vertical-align: middle;\n",
       "    }\n",
       "\n",
       "    .dataframe tbody tr th {\n",
       "        vertical-align: top;\n",
       "    }\n",
       "\n",
       "    .dataframe thead th {\n",
       "        text-align: right;\n",
       "    }\n",
       "</style>\n",
       "<table border=\"1\" class=\"dataframe\">\n",
       "  <thead>\n",
       "    <tr style=\"text-align: right;\">\n",
       "      <th></th>\n",
       "      <th>timestamp</th>\n",
       "      <th>source_ip</th>\n",
       "      <th>destination_ip</th>\n",
       "      <th>protocol</th>\n",
       "      <th>packet_size</th>\n",
       "      <th>source_port</th>\n",
       "      <th>destination_port</th>\n",
       "      <th>tcp_flags</th>\n",
       "      <th>ttl</th>\n",
       "      <th>info</th>\n",
       "    </tr>\n",
       "  </thead>\n",
       "  <tbody>\n",
       "    <tr>\n",
       "      <th>0</th>\n",
       "      <td>2024-03-04 00:22:04.340086</td>\n",
       "      <td>192.168.100.11</td>\n",
       "      <td>35.83.111.163</td>\n",
       "      <td>TCP</td>\n",
       "      <td>66</td>\n",
       "      <td>35985</td>\n",
       "      <td>443</td>\n",
       "      <td>0x0010</td>\n",
       "      <td>64.0</td>\n",
       "      <td>COMMUNITYID</td>\n",
       "    </tr>\n",
       "    <tr>\n",
       "      <th>1</th>\n",
       "      <td>2024-03-04 00:22:04.406182</td>\n",
       "      <td>35.83.111.163</td>\n",
       "      <td>192.168.100.11</td>\n",
       "      <td>TCP</td>\n",
       "      <td>66</td>\n",
       "      <td>443</td>\n",
       "      <td>35985</td>\n",
       "      <td>0x0010</td>\n",
       "      <td>247.0</td>\n",
       "      <td>COMMUNITYID</td>\n",
       "    </tr>\n",
       "    <tr>\n",
       "      <th>2</th>\n",
       "      <td>2024-03-04 00:22:05.568513</td>\n",
       "      <td>192.168.1.101</td>\n",
       "      <td>192.168.1.1</td>\n",
       "      <td>TCP</td>\n",
       "      <td>66</td>\n",
       "      <td>56152</td>\n",
       "      <td>8080</td>\n",
       "      <td>0x0002</td>\n",
       "      <td>64.0</td>\n",
       "      <td>COMMUNITYID</td>\n",
       "    </tr>\n",
       "    <tr>\n",
       "      <th>3</th>\n",
       "      <td>2024-03-04 00:22:05.568567</td>\n",
       "      <td>192.168.1.1</td>\n",
       "      <td>192.168.1.101</td>\n",
       "      <td>TCP</td>\n",
       "      <td>66</td>\n",
       "      <td>8080</td>\n",
       "      <td>56152</td>\n",
       "      <td>0x0012</td>\n",
       "      <td>64.0</td>\n",
       "      <td>COMMUNITYID</td>\n",
       "    </tr>\n",
       "    <tr>\n",
       "      <th>4</th>\n",
       "      <td>2024-03-04 00:22:05.568709</td>\n",
       "      <td>192.168.1.101</td>\n",
       "      <td>192.168.1.1</td>\n",
       "      <td>TCP</td>\n",
       "      <td>60</td>\n",
       "      <td>56152</td>\n",
       "      <td>8080</td>\n",
       "      <td>0x0010</td>\n",
       "      <td>64.0</td>\n",
       "      <td>COMMUNITYID</td>\n",
       "    </tr>\n",
       "  </tbody>\n",
       "</table>\n",
       "</div>"
      ],
      "text/plain": [
       "                    timestamp       source_ip  destination_ip protocol  \\\n",
       "0  2024-03-04 00:22:04.340086  192.168.100.11   35.83.111.163      TCP   \n",
       "1  2024-03-04 00:22:04.406182   35.83.111.163  192.168.100.11      TCP   \n",
       "2  2024-03-04 00:22:05.568513   192.168.1.101     192.168.1.1      TCP   \n",
       "3  2024-03-04 00:22:05.568567     192.168.1.1   192.168.1.101      TCP   \n",
       "4  2024-03-04 00:22:05.568709   192.168.1.101     192.168.1.1      TCP   \n",
       "\n",
       "   packet_size  source_port  destination_port tcp_flags    ttl         info  \n",
       "0           66        35985               443    0x0010   64.0  COMMUNITYID  \n",
       "1           66          443             35985    0x0010  247.0  COMMUNITYID  \n",
       "2           66        56152              8080    0x0002   64.0  COMMUNITYID  \n",
       "3           66         8080             56152    0x0012   64.0  COMMUNITYID  \n",
       "4           60        56152              8080    0x0010   64.0  COMMUNITYID  "
      ]
     },
     "metadata": {},
     "output_type": "display_data"
    }
   ],
   "source": [
    "# Load Dataset\n",
    "df = pd.read_csv(RAW_CSV_PATH)\n",
    "print(f\"Dataset contains {df.shape[0]} rows and {df.shape[1]} columns before processing.\\n\")\n",
    "\n",
    "# Display first few rows\n",
    "display(df.head())"
   ]
  },
  {
   "cell_type": "code",
   "execution_count": null,
   "metadata": {},
   "outputs": [],
   "source": [
    "# #  Fix Data Types (Convert Numeric-Like Text)\n",
    "# for col in df.columns:\n",
    "#     if df[col].dtype == \"object\":\n",
    "#         try:\n",
    "#             df[col] = pd.to_numeric(df[col])  # Convert numeric-like strings to numbers\n",
    "#         except ValueError:\n",
    "#             pass  # Ignore non-numeric columns\n",
    "\n",
    "# print(\"✅ Data Types Fixed!\")\n",
    "# df.dtypes"
   ]
  },
  {
   "cell_type": "code",
   "execution_count": null,
   "metadata": {},
   "outputs": [],
   "source": [
    "# # Clean Strings (Whitespace & Special Characters)\n",
    "# df = df.map(lambda x: x.strip() if isinstance(x, str) else x)\n",
    "# print(\"✅ Special Characters & Extra Spaces Removed!\")"
   ]
  },
  {
   "cell_type": "code",
   "execution_count": null,
   "metadata": {},
   "outputs": [],
   "source": [
    "# # Apply one-hot encoding with memory optimization\n",
    "# high_cardinality_threshold = 100  # Set a reasonable threshold for one-hot encoding\n",
    "# low_cardinality_cols = [col for col in categorical_cols if 2 < df[col].nunique() <= high_cardinality_threshold]\n",
    "# high_cardinality_cols = [col for col in categorical_cols if df[col].nunique() > high_cardinality_threshold]\n",
    "\n",
    "# # One-hot encode only low-cardinality categorical features\n",
    "# df = pd.get_dummies(df, columns=low_cardinality_cols, drop_first=True)\n",
    "\n",
    "# # Convert high-cardinality categorical features to numeric categories (ordinal encoding)\n",
    "# for col in high_cardinality_cols:\n",
    "#     df[col] = df[col].astype('category').cat.codes\n",
    "\n",
    "# print(\"Dataset shape after encoding:\", df.shape)\n"
   ]
  },
  {
   "cell_type": "code",
   "execution_count": null,
   "metadata": {},
   "outputs": [],
   "source": [
    "# # Apply label encoding to binary categorical features\n",
    "# le = LabelEncoder()\n",
    "# for col in categorical_cols:\n",
    "#     if df[col].nunique() == 2:\n",
    "#         df[col] = le.fit_transform(df[col])\n",
    "# Label encode all categorical columns\n",
    "label_encoders = {}\n",
    "for col in cat_cols:\n",
    "    le = LabelEncoder()\n",
    "    df[col] = le.fit_transform(df[col])\n",
    "    label_encoders[col] = le\n",
    "print(\"✅ Categorical features encoded\")\n"
   ]
  },
  {
   "cell_type": "code",
   "execution_count": null,
   "metadata": {},
   "outputs": [],
   "source": [
    "# Normalize numerical columns not needed for my project\n",
    "scaler = StandardScaler()\n",
    "df[num_cols] = scaler.fit_transform(df[num_cols])\n",
    "\n",
    "print(\"✅ Numerical features normalized\")\n"
   ]
  }
 ],
 "metadata": {
  "kernelspec": {
   "display_name": ".venv",
   "language": "python",
   "name": "python3"
  },
  "language_info": {
   "codemirror_mode": {
    "name": "ipython",
    "version": 3
   },
   "file_extension": ".py",
   "mimetype": "text/x-python",
   "name": "python",
   "nbconvert_exporter": "python",
   "pygments_lexer": "ipython3",
   "version": "3.13.1"
  }
 },
 "nbformat": 4,
 "nbformat_minor": 2
}
