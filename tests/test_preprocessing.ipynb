{
 "cells": [
  {
   "cell_type": "markdown",
   "metadata": {},
   "source": [
    "# Data Preprocessing Notebook\n",
    "- This notebook contains essential preprocessing steps to prepare a dataset for ML models."
   ]
  },
  {
   "cell_type": "markdown",
   "metadata": {},
   "source": [
    "## 1. Loading Libraries"
   ]
  },
  {
   "cell_type": "code",
   "execution_count": 2,
   "metadata": {},
   "outputs": [],
   "source": [
    "# Import necessary libraries\n",
    "import numpy as np\n",
    "import pandas as pd\n",
    "from sklearn.preprocessing import StandardScaler, MinMaxScaler, LabelEncoder, OneHotEncoder\n",
    "from sklearn.impute import SimpleImputer\n",
    "from imblearn.over_sampling import SMOTE\n",
    "from scipy import stats\n",
    "from datetime import datetime\n",
    "import matplotlib.pyplot as plt\n",
    "import seaborn as sns\n",
    "import os\n",
    "import itertools\n",
    "\n",
    "# settings for Better Data Display in Jupyter Notebook\n",
    "\n",
    "pd.set_option('display.max_rows', None)         # Show all rows\n",
    "pd.set_option('display.max_columns', None)      # Show all columns\n",
    "pd.set_option('display.max_colwidth', None)     # Show full column content (even long text)\n",
    "pd.set_option('display.expand_frame_repr', False)  # Prevent line-wrapping of DataFrames\n",
    "\n",
    "# Enable seaborn style\n",
    "sns.set_style(\"whitegrid\")"
   ]
  },
  {
   "cell_type": "markdown",
   "metadata": {},
   "source": [
    "## 2. Loading Data"
   ]
  },
  {
   "cell_type": "code",
   "execution_count": 4,
   "metadata": {},
   "outputs": [],
   "source": [
    "# Load the dataset \n",
    "RAW_CSV_PATH = 'D:/FYP/webapp/IDS/media/csvs/attack_traffic_01.csv'  # Remember to update file name and use / instead of \\ in the path\n",
    "#df = pd.read_csv(RAW_CSV_PATH, low_memory=False)   # Use this line if  having memory issues just to ignore erorrs\n"
   ]
  },
  {
   "cell_type": "markdown",
   "metadata": {},
   "source": [
    "## 3. Understanding Data"
   ]
  },
  {
   "cell_type": "code",
   "execution_count": 6,
   "metadata": {},
   "outputs": [
    {
     "ename": "ParserError",
     "evalue": "Error tokenizing data. C error: Expected 11 fields in line 516, saw 14\n",
     "output_type": "error",
     "traceback": [
      "\u001b[31m---------------------------------------------------------------------------\u001b[39m",
      "\u001b[31mParserError\u001b[39m                               Traceback (most recent call last)",
      "\u001b[36mCell\u001b[39m\u001b[36m \u001b[39m\u001b[32mIn[6]\u001b[39m\u001b[32m, line 1\u001b[39m\n\u001b[32m----> \u001b[39m\u001b[32m1\u001b[39m df = \u001b[43mpd\u001b[49m\u001b[43m.\u001b[49m\u001b[43mread_csv\u001b[49m\u001b[43m(\u001b[49m\u001b[43mRAW_CSV_PATH\u001b[49m\u001b[43m)\u001b[49m\n\u001b[32m      2\u001b[39m \u001b[38;5;66;03m#print(f\"✅ Dataset loaded: {df.shape[0]} rows, {df.shape[1]} columns\")# Display basic info\u001b[39;00m\n\u001b[32m      3\u001b[39m df.info()\n",
      "\u001b[36mFile \u001b[39m\u001b[32md:\\FYP\\.venv\\Lib\\site-packages\\pandas\\io\\parsers\\readers.py:1026\u001b[39m, in \u001b[36mread_csv\u001b[39m\u001b[34m(filepath_or_buffer, sep, delimiter, header, names, index_col, usecols, dtype, engine, converters, true_values, false_values, skipinitialspace, skiprows, skipfooter, nrows, na_values, keep_default_na, na_filter, verbose, skip_blank_lines, parse_dates, infer_datetime_format, keep_date_col, date_parser, date_format, dayfirst, cache_dates, iterator, chunksize, compression, thousands, decimal, lineterminator, quotechar, quoting, doublequote, escapechar, comment, encoding, encoding_errors, dialect, on_bad_lines, delim_whitespace, low_memory, memory_map, float_precision, storage_options, dtype_backend)\u001b[39m\n\u001b[32m   1013\u001b[39m kwds_defaults = _refine_defaults_read(\n\u001b[32m   1014\u001b[39m     dialect,\n\u001b[32m   1015\u001b[39m     delimiter,\n\u001b[32m   (...)\u001b[39m\u001b[32m   1022\u001b[39m     dtype_backend=dtype_backend,\n\u001b[32m   1023\u001b[39m )\n\u001b[32m   1024\u001b[39m kwds.update(kwds_defaults)\n\u001b[32m-> \u001b[39m\u001b[32m1026\u001b[39m \u001b[38;5;28;01mreturn\u001b[39;00m \u001b[43m_read\u001b[49m\u001b[43m(\u001b[49m\u001b[43mfilepath_or_buffer\u001b[49m\u001b[43m,\u001b[49m\u001b[43m \u001b[49m\u001b[43mkwds\u001b[49m\u001b[43m)\u001b[49m\n",
      "\u001b[36mFile \u001b[39m\u001b[32md:\\FYP\\.venv\\Lib\\site-packages\\pandas\\io\\parsers\\readers.py:626\u001b[39m, in \u001b[36m_read\u001b[39m\u001b[34m(filepath_or_buffer, kwds)\u001b[39m\n\u001b[32m    623\u001b[39m     \u001b[38;5;28;01mreturn\u001b[39;00m parser\n\u001b[32m    625\u001b[39m \u001b[38;5;28;01mwith\u001b[39;00m parser:\n\u001b[32m--> \u001b[39m\u001b[32m626\u001b[39m     \u001b[38;5;28;01mreturn\u001b[39;00m \u001b[43mparser\u001b[49m\u001b[43m.\u001b[49m\u001b[43mread\u001b[49m\u001b[43m(\u001b[49m\u001b[43mnrows\u001b[49m\u001b[43m)\u001b[49m\n",
      "\u001b[36mFile \u001b[39m\u001b[32md:\\FYP\\.venv\\Lib\\site-packages\\pandas\\io\\parsers\\readers.py:1923\u001b[39m, in \u001b[36mTextFileReader.read\u001b[39m\u001b[34m(self, nrows)\u001b[39m\n\u001b[32m   1916\u001b[39m nrows = validate_integer(\u001b[33m\"\u001b[39m\u001b[33mnrows\u001b[39m\u001b[33m\"\u001b[39m, nrows)\n\u001b[32m   1917\u001b[39m \u001b[38;5;28;01mtry\u001b[39;00m:\n\u001b[32m   1918\u001b[39m     \u001b[38;5;66;03m# error: \"ParserBase\" has no attribute \"read\"\u001b[39;00m\n\u001b[32m   1919\u001b[39m     (\n\u001b[32m   1920\u001b[39m         index,\n\u001b[32m   1921\u001b[39m         columns,\n\u001b[32m   1922\u001b[39m         col_dict,\n\u001b[32m-> \u001b[39m\u001b[32m1923\u001b[39m     ) = \u001b[38;5;28;43mself\u001b[39;49m\u001b[43m.\u001b[49m\u001b[43m_engine\u001b[49m\u001b[43m.\u001b[49m\u001b[43mread\u001b[49m\u001b[43m(\u001b[49m\u001b[43m  \u001b[49m\u001b[38;5;66;43;03m# type: ignore[attr-defined]\u001b[39;49;00m\n\u001b[32m   1924\u001b[39m \u001b[43m        \u001b[49m\u001b[43mnrows\u001b[49m\n\u001b[32m   1925\u001b[39m \u001b[43m    \u001b[49m\u001b[43m)\u001b[49m\n\u001b[32m   1926\u001b[39m \u001b[38;5;28;01mexcept\u001b[39;00m \u001b[38;5;167;01mException\u001b[39;00m:\n\u001b[32m   1927\u001b[39m     \u001b[38;5;28mself\u001b[39m.close()\n",
      "\u001b[36mFile \u001b[39m\u001b[32md:\\FYP\\.venv\\Lib\\site-packages\\pandas\\io\\parsers\\c_parser_wrapper.py:234\u001b[39m, in \u001b[36mCParserWrapper.read\u001b[39m\u001b[34m(self, nrows)\u001b[39m\n\u001b[32m    232\u001b[39m \u001b[38;5;28;01mtry\u001b[39;00m:\n\u001b[32m    233\u001b[39m     \u001b[38;5;28;01mif\u001b[39;00m \u001b[38;5;28mself\u001b[39m.low_memory:\n\u001b[32m--> \u001b[39m\u001b[32m234\u001b[39m         chunks = \u001b[38;5;28;43mself\u001b[39;49m\u001b[43m.\u001b[49m\u001b[43m_reader\u001b[49m\u001b[43m.\u001b[49m\u001b[43mread_low_memory\u001b[49m\u001b[43m(\u001b[49m\u001b[43mnrows\u001b[49m\u001b[43m)\u001b[49m\n\u001b[32m    235\u001b[39m         \u001b[38;5;66;03m# destructive to chunks\u001b[39;00m\n\u001b[32m    236\u001b[39m         data = _concatenate_chunks(chunks)\n",
      "\u001b[36mFile \u001b[39m\u001b[32mparsers.pyx:838\u001b[39m, in \u001b[36mpandas._libs.parsers.TextReader.read_low_memory\u001b[39m\u001b[34m()\u001b[39m\n",
      "\u001b[36mFile \u001b[39m\u001b[32mparsers.pyx:905\u001b[39m, in \u001b[36mpandas._libs.parsers.TextReader._read_rows\u001b[39m\u001b[34m()\u001b[39m\n",
      "\u001b[36mFile \u001b[39m\u001b[32mparsers.pyx:874\u001b[39m, in \u001b[36mpandas._libs.parsers.TextReader._tokenize_rows\u001b[39m\u001b[34m()\u001b[39m\n",
      "\u001b[36mFile \u001b[39m\u001b[32mparsers.pyx:891\u001b[39m, in \u001b[36mpandas._libs.parsers.TextReader._check_tokenize_status\u001b[39m\u001b[34m()\u001b[39m\n",
      "\u001b[36mFile \u001b[39m\u001b[32mparsers.pyx:2061\u001b[39m, in \u001b[36mpandas._libs.parsers.raise_parser_error\u001b[39m\u001b[34m()\u001b[39m\n",
      "\u001b[31mParserError\u001b[39m: Error tokenizing data. C error: Expected 11 fields in line 516, saw 14\n"
     ]
    }
   ],
   "source": [
    "df = pd.read_csv(RAW_CSV_PATH)\n",
    "#print(f\"✅ Dataset loaded: {df.shape[0]} rows, {df.shape[1]} columns\")# Display basic info\n",
    "df.info()"
   ]
  },
  {
   "cell_type": "code",
   "execution_count": 6,
   "metadata": {},
   "outputs": [
    {
     "data": {
      "text/html": [
       "<div>\n",
       "<style scoped>\n",
       "    .dataframe tbody tr th:only-of-type {\n",
       "        vertical-align: middle;\n",
       "    }\n",
       "\n",
       "    .dataframe tbody tr th {\n",
       "        vertical-align: top;\n",
       "    }\n",
       "\n",
       "    .dataframe thead th {\n",
       "        text-align: right;\n",
       "    }\n",
       "</style>\n",
       "<table border=\"1\" class=\"dataframe\">\n",
       "  <thead>\n",
       "    <tr style=\"text-align: right;\">\n",
       "      <th></th>\n",
       "      <th>frame.number</th>\n",
       "      <th>frame.time</th>\n",
       "      <th>wlan_radio.signal_db</th>\n",
       "      <th>wlan_radio.channel</th>\n",
       "      <th>wlan.ssid</th>\n",
       "      <th>_ws.col.protocol</th>\n",
       "      <th>ip.ttl</th>\n",
       "      <th>wlan.bssid</th>\n",
       "      <th>wlan.sa</th>\n",
       "      <th>wlan.ta</th>\n",
       "      <th>wlan.ra</th>\n",
       "      <th>wlan.da</th>\n",
       "      <th>ip.src</th>\n",
       "      <th>ip.dst</th>\n",
       "      <th>tcp.srcport</th>\n",
       "      <th>tcp.dstport</th>\n",
       "      <th>tcp.flags</th>\n",
       "      <th>_ws.col.info</th>\n",
       "      <th>frame.len</th>\n",
       "      <th>frame.time_delta_displayed</th>\n",
       "      <th>ppi_gps.lat</th>\n",
       "      <th>ppi_gps.lon</th>\n",
       "      <th>ppi_gps.alt\\r</th>\n",
       "    </tr>\n",
       "  </thead>\n",
       "  <tbody>\n",
       "    <tr>\n",
       "      <th>0</th>\n",
       "      <td>1</td>\n",
       "      <td>Mar 17, 2025 15:24:08.655020000 Pakistan Standard Time</td>\n",
       "      <td>NaN</td>\n",
       "      <td>NaN</td>\n",
       "      <td>NaN</td>\n",
       "      <td>DHCP</td>\n",
       "      <td>64</td>\n",
       "      <td>NaN</td>\n",
       "      <td>NaN</td>\n",
       "      <td>NaN</td>\n",
       "      <td>NaN</td>\n",
       "      <td>NaN</td>\n",
       "      <td>192.168.100.11</td>\n",
       "      <td>192.168.100.1</td>\n",
       "      <td>NaN</td>\n",
       "      <td>NaN</td>\n",
       "      <td>NaN</td>\n",
       "      <td>DHCP Request  - Transaction ID 0x69789b5b</td>\n",
       "      <td>330</td>\n",
       "      <td>0.000000</td>\n",
       "      <td>NaN</td>\n",
       "      <td>NaN</td>\n",
       "      <td>\\r</td>\n",
       "    </tr>\n",
       "    <tr>\n",
       "      <th>1</th>\n",
       "      <td>2</td>\n",
       "      <td>Mar 17, 2025 15:24:08.655033000 Pakistan Standard Time</td>\n",
       "      <td>NaN</td>\n",
       "      <td>NaN</td>\n",
       "      <td>NaN</td>\n",
       "      <td>DHCP</td>\n",
       "      <td>64</td>\n",
       "      <td>NaN</td>\n",
       "      <td>NaN</td>\n",
       "      <td>NaN</td>\n",
       "      <td>NaN</td>\n",
       "      <td>NaN</td>\n",
       "      <td>192.168.100.11</td>\n",
       "      <td>192.168.100.1</td>\n",
       "      <td>NaN</td>\n",
       "      <td>NaN</td>\n",
       "      <td>NaN</td>\n",
       "      <td>DHCP Request  - Transaction ID 0x69789b5b</td>\n",
       "      <td>330</td>\n",
       "      <td>0.000013</td>\n",
       "      <td>NaN</td>\n",
       "      <td>NaN</td>\n",
       "      <td>\\r</td>\n",
       "    </tr>\n",
       "    <tr>\n",
       "      <th>2</th>\n",
       "      <td>3</td>\n",
       "      <td>Mar 17, 2025 15:24:08.968059000 Pakistan Standard Time</td>\n",
       "      <td>NaN</td>\n",
       "      <td>NaN</td>\n",
       "      <td>NaN</td>\n",
       "      <td>DNS</td>\n",
       "      <td>NaN</td>\n",
       "      <td>NaN</td>\n",
       "      <td>NaN</td>\n",
       "      <td>NaN</td>\n",
       "      <td>NaN</td>\n",
       "      <td>NaN</td>\n",
       "      <td>NaN</td>\n",
       "      <td>NaN</td>\n",
       "      <td>NaN</td>\n",
       "      <td>NaN</td>\n",
       "      <td>NaN</td>\n",
       "      <td>Standard query 0x7ad4 PTR 11.100.168.192.in-addr.arpa OPT</td>\n",
       "      <td>118</td>\n",
       "      <td>0.313026</td>\n",
       "      <td>NaN</td>\n",
       "      <td>NaN</td>\n",
       "      <td>\\r</td>\n",
       "    </tr>\n",
       "    <tr>\n",
       "      <th>3</th>\n",
       "      <td>4</td>\n",
       "      <td>Mar 17, 2025 15:24:08.968071000 Pakistan Standard Time</td>\n",
       "      <td>NaN</td>\n",
       "      <td>NaN</td>\n",
       "      <td>NaN</td>\n",
       "      <td>DNS</td>\n",
       "      <td>NaN</td>\n",
       "      <td>NaN</td>\n",
       "      <td>NaN</td>\n",
       "      <td>NaN</td>\n",
       "      <td>NaN</td>\n",
       "      <td>NaN</td>\n",
       "      <td>NaN</td>\n",
       "      <td>NaN</td>\n",
       "      <td>NaN</td>\n",
       "      <td>NaN</td>\n",
       "      <td>NaN</td>\n",
       "      <td>Standard query 0x7ad4 PTR 11.100.168.192.in-addr.arpa OPT</td>\n",
       "      <td>118</td>\n",
       "      <td>0.000012</td>\n",
       "      <td>NaN</td>\n",
       "      <td>NaN</td>\n",
       "      <td>\\r</td>\n",
       "    </tr>\n",
       "    <tr>\n",
       "      <th>4</th>\n",
       "      <td>5</td>\n",
       "      <td>Mar 17, 2025 15:24:08.968389000 Pakistan Standard Time</td>\n",
       "      <td>NaN</td>\n",
       "      <td>NaN</td>\n",
       "      <td>NaN</td>\n",
       "      <td>DNS</td>\n",
       "      <td>NaN</td>\n",
       "      <td>NaN</td>\n",
       "      <td>NaN</td>\n",
       "      <td>NaN</td>\n",
       "      <td>NaN</td>\n",
       "      <td>NaN</td>\n",
       "      <td>NaN</td>\n",
       "      <td>NaN</td>\n",
       "      <td>NaN</td>\n",
       "      <td>NaN</td>\n",
       "      <td>NaN</td>\n",
       "      <td>Standard query 0x1ed9 PTR 1.100.168.192.in-addr.arpa OPT</td>\n",
       "      <td>117</td>\n",
       "      <td>0.000318</td>\n",
       "      <td>NaN</td>\n",
       "      <td>NaN</td>\n",
       "      <td>\\r</td>\n",
       "    </tr>\n",
       "  </tbody>\n",
       "</table>\n",
       "</div>"
      ],
      "text/plain": [
       "   frame.number                                              frame.time  wlan_radio.signal_db  wlan_radio.channel  wlan.ssid _ws.col.protocol ip.ttl  wlan.bssid  wlan.sa  wlan.ta  wlan.ra  wlan.da          ip.src         ip.dst  tcp.srcport  tcp.dstport tcp.flags                                               _ws.col.info  frame.len  frame.time_delta_displayed  ppi_gps.lat  ppi_gps.lon ppi_gps.alt\\r\n",
       "0             1  Mar 17, 2025 15:24:08.655020000 Pakistan Standard Time                   NaN                 NaN        NaN             DHCP     64         NaN      NaN      NaN      NaN      NaN  192.168.100.11  192.168.100.1          NaN          NaN       NaN                  DHCP Request  - Transaction ID 0x69789b5b        330                    0.000000          NaN          NaN            \\r\n",
       "1             2  Mar 17, 2025 15:24:08.655033000 Pakistan Standard Time                   NaN                 NaN        NaN             DHCP     64         NaN      NaN      NaN      NaN      NaN  192.168.100.11  192.168.100.1          NaN          NaN       NaN                  DHCP Request  - Transaction ID 0x69789b5b        330                    0.000013          NaN          NaN            \\r\n",
       "2             3  Mar 17, 2025 15:24:08.968059000 Pakistan Standard Time                   NaN                 NaN        NaN              DNS    NaN         NaN      NaN      NaN      NaN      NaN             NaN            NaN          NaN          NaN       NaN  Standard query 0x7ad4 PTR 11.100.168.192.in-addr.arpa OPT        118                    0.313026          NaN          NaN            \\r\n",
       "3             4  Mar 17, 2025 15:24:08.968071000 Pakistan Standard Time                   NaN                 NaN        NaN              DNS    NaN         NaN      NaN      NaN      NaN      NaN             NaN            NaN          NaN          NaN       NaN  Standard query 0x7ad4 PTR 11.100.168.192.in-addr.arpa OPT        118                    0.000012          NaN          NaN            \\r\n",
       "4             5  Mar 17, 2025 15:24:08.968389000 Pakistan Standard Time                   NaN                 NaN        NaN              DNS    NaN         NaN      NaN      NaN      NaN      NaN             NaN            NaN          NaN          NaN       NaN   Standard query 0x1ed9 PTR 1.100.168.192.in-addr.arpa OPT        117                    0.000318          NaN          NaN            \\r"
      ]
     },
     "execution_count": 6,
     "metadata": {},
     "output_type": "execute_result"
    }
   ],
   "source": [
    "df.head()"
   ]
  },
  {
   "cell_type": "code",
   "execution_count": 7,
   "metadata": {},
   "outputs": [
    {
     "data": {
      "text/plain": [
       "Index(['frame.number', 'frame.time', 'wlan_radio.signal_db',\n",
       "       'wlan_radio.channel', 'wlan.ssid', '_ws.col.protocol', 'ip.ttl',\n",
       "       'wlan.bssid', 'wlan.sa', 'wlan.ta', 'wlan.ra', 'wlan.da', 'ip.src',\n",
       "       'ip.dst', 'tcp.srcport', 'tcp.dstport', 'tcp.flags', '_ws.col.info',\n",
       "       'frame.len', 'frame.time_delta_displayed', 'ppi_gps.lat', 'ppi_gps.lon',\n",
       "       'ppi_gps.alt\\r'],\n",
       "      dtype='object')"
      ]
     },
     "execution_count": 7,
     "metadata": {},
     "output_type": "execute_result"
    }
   ],
   "source": [
    "df.columns"
   ]
  },
  {
   "cell_type": "code",
   "execution_count": 8,
   "metadata": {},
   "outputs": [
    {
     "data": {
      "text/plain": [
       "array(['192.168.100.11', nan, '192.168.100.75', '192.168.100.27',\n",
       "       '13.107.3.254', '192.168.100.11,192.168.100.27', '192.168.100.1',\n",
       "       '192.168.100.11,192.168.100.1', '20.24.40.162', '192.168.100.60',\n",
       "       '204.79.197.222', '192.168.100.139', '162.159.200.1',\n",
       "       '13.107.13.93', '10.10.10.3', '51.104.15.253', '20.42.73.31',\n",
       "       '20.207.73.85', '13.67.9.5', '192.168.100.78', '140.82.114.22',\n",
       "       '192.168.100.48', '20.50.88.242', '192.168.100.49', '40.79.189.59',\n",
       "       '140.82.112.21', '104.208.16.90', '20.207.93.38',\n",
       "       '109.126.139.236', '136.93.238.194', '15.46.231.146',\n",
       "       '183.22.149.75', '8.14.235.100', '166.155.0.133', '95.132.230.121',\n",
       "       '157.230.79.193', '187.47.9.50', '39.124.76.92', '20.189.173.1',\n",
       "       '20.50.88.234', '140.82.113.21', '13.78.111.199', '140.82.114.21',\n",
       "       '13.107.5.93', '20.189.172.33', '104.17.143.163', '20.189.173.24',\n",
       "       '131.253.33.203', '20.42.65.94', '208.84.6.254', '20.207.73.82',\n",
       "       '92.123.159.240', '35.190.72.216', '192.168.100.11,192.168.100.75',\n",
       "       '20.190.145.142'], dtype=object)"
      ]
     },
     "execution_count": 8,
     "metadata": {},
     "output_type": "execute_result"
    }
   ],
   "source": [
    "\n",
    "#df[['ip.dst', '_ws.col.info']]\n",
    "\n",
    "df['ip.src'].unique()\n"
   ]
  },
  {
   "cell_type": "code",
   "execution_count": null,
   "metadata": {},
   "outputs": [],
   "source": [
    "#will use these for attack label encoding\n",
    "# 192.168.100.11', '192.168.100.75','192.168.100.1', '192.168.100.60','192.168.100.139', '192.168.100.78', \n",
    "# '192.168.100.48', '192.168.100.49', '192.168.100.11,'192.168.100.75',\n",
    "       "
   ]
  },
  {
   "cell_type": "markdown",
   "metadata": {},
   "source": [
    "## 4.Remove Duplicates"
   ]
  },
  {
   "cell_type": "code",
   "execution_count": 9,
   "metadata": {},
   "outputs": [
    {
     "name": "stdout",
     "output_type": "stream",
     "text": [
      "✅ After removing duplicates: (80105, 23)\n"
     ]
    }
   ],
   "source": [
    "# Drop duplicate rows if any\n",
    "df.drop_duplicates(inplace=True)\n",
    "print(f\"✅ After removing duplicates: {df.shape}\")"
   ]
  },
  {
   "cell_type": "markdown",
   "metadata": {},
   "source": [
    "## 5. Handling Missing Values"
   ]
  },
  {
   "cell_type": "code",
   "execution_count": 10,
   "metadata": {},
   "outputs": [
    {
     "name": "stdout",
     "output_type": "stream",
     "text": [
      "Missing Values per Column:\n",
      "wlan_radio.signal_db    80105\n",
      "wlan_radio.channel      80105\n",
      "wlan.ssid               80105\n",
      "ip.ttl                  17166\n",
      "wlan.bssid              80105\n",
      "wlan.sa                 80105\n",
      "wlan.ta                 80105\n",
      "wlan.ra                 80105\n",
      "wlan.da                 80105\n",
      "ip.src                  17166\n",
      "ip.dst                  17166\n",
      "tcp.srcport              9116\n",
      "tcp.dstport              9116\n",
      "tcp.flags                9132\n",
      "_ws.col.info              246\n",
      "ppi_gps.lat             80105\n",
      "ppi_gps.lon             80105\n",
      "dtype: int64\n"
     ]
    }
   ],
   "source": [
    "# Check for missing values\n",
    "missing_values = df.isnull().sum()\n",
    "print(\"Missing Values per Column:\")\n",
    "print(missing_values[missing_values > 0])\n"
   ]
  },
  {
   "cell_type": "code",
   "execution_count": null,
   "metadata": {},
   "outputs": [
    {
     "name": "stderr",
     "output_type": "stream",
     "text": [
      ") missing from font(s) Arial.s\\seaborn\\utils.py:61: UserWarning: Glyph 13 (\n",
      "  fig.canvas.draw()\n",
      ") missing from font(s) Arial.s\\IPython\\core\\pylabtools.py:170: UserWarning: Glyph 13 (\n",
      "  fig.canvas.print_figure(bytes_io, **kw)\n"
     ]
    },
    {
     "data": {
      "image/png": "[encoded data removed]",
      "text/plain": [
       "<Figure size 1200x600 with 1 Axes>"
      ]
     },
     "metadata": {},
     "output_type": "display_data"
    }
   ],
   "source": [
    "# Visualizing Missing Values Before Cleaning\n",
    "plt.figure(figsize=(12, 6))\n",
    "sns.heatmap(df.isnull(), cmap=\"plasma\", cbar=False, yticklabels=False)\n",
    "plt.title(\"Missing Values Before Cleaning\")\n",
    "plt.show()\n",
    "#yellow missing values, blue no missing values"
   ]
  },
  {
   "cell_type": "code",
   "execution_count": 14,
   "metadata": {},
   "outputs": [
    {
     "data": {
      "text/html": [
       "<div>\n",
       "<style scoped>\n",
       "    .dataframe tbody tr th:only-of-type {\n",
       "        vertical-align: middle;\n",
       "    }\n",
       "\n",
       "    .dataframe tbody tr th {\n",
       "        vertical-align: top;\n",
       "    }\n",
       "\n",
       "    .dataframe thead th {\n",
       "        text-align: right;\n",
       "    }\n",
       "</style>\n",
       "<table border=\"1\" class=\"dataframe\">\n",
       "  <thead>\n",
       "    <tr style=\"text-align: right;\">\n",
       "      <th></th>\n",
       "      <th>frame.number</th>\n",
       "      <th>frame.time</th>\n",
       "      <th>_ws.col.protocol</th>\n",
       "      <th>ip.ttl</th>\n",
       "      <th>ip.src</th>\n",
       "      <th>ip.dst</th>\n",
       "      <th>tcp.srcport</th>\n",
       "      <th>tcp.dstport</th>\n",
       "      <th>tcp.flags</th>\n",
       "      <th>_ws.col.info</th>\n",
       "      <th>frame.len</th>\n",
       "      <th>frame.time_delta_displayed</th>\n",
       "      <th>ppi_gps.alt\\r</th>\n",
       "    </tr>\n",
       "  </thead>\n",
       "  <tbody>\n",
       "    <tr>\n",
       "      <th>0</th>\n",
       "      <td>1</td>\n",
       "      <td>Mar 17, 2025 15:24:08.655020000 Pakistan Standard Time</td>\n",
       "      <td>DHCP</td>\n",
       "      <td>64</td>\n",
       "      <td>192.168.100.11</td>\n",
       "      <td>192.168.100.1</td>\n",
       "      <td>NaN</td>\n",
       "      <td>NaN</td>\n",
       "      <td>NaN</td>\n",
       "      <td>DHCP Request  - Transaction ID 0x69789b5b</td>\n",
       "      <td>330</td>\n",
       "      <td>0.000000</td>\n",
       "      <td>\\r</td>\n",
       "    </tr>\n",
       "    <tr>\n",
       "      <th>1</th>\n",
       "      <td>2</td>\n",
       "      <td>Mar 17, 2025 15:24:08.655033000 Pakistan Standard Time</td>\n",
       "      <td>DHCP</td>\n",
       "      <td>64</td>\n",
       "      <td>192.168.100.11</td>\n",
       "      <td>192.168.100.1</td>\n",
       "      <td>NaN</td>\n",
       "      <td>NaN</td>\n",
       "      <td>NaN</td>\n",
       "      <td>DHCP Request  - Transaction ID 0x69789b5b</td>\n",
       "      <td>330</td>\n",
       "      <td>0.000013</td>\n",
       "      <td>\\r</td>\n",
       "    </tr>\n",
       "    <tr>\n",
       "      <th>2</th>\n",
       "      <td>3</td>\n",
       "      <td>Mar 17, 2025 15:24:08.968059000 Pakistan Standard Time</td>\n",
       "      <td>DNS</td>\n",
       "      <td>NaN</td>\n",
       "      <td>NaN</td>\n",
       "      <td>NaN</td>\n",
       "      <td>NaN</td>\n",
       "      <td>NaN</td>\n",
       "      <td>NaN</td>\n",
       "      <td>Standard query 0x7ad4 PTR 11.100.168.192.in-addr.arpa OPT</td>\n",
       "      <td>118</td>\n",
       "      <td>0.313026</td>\n",
       "      <td>\\r</td>\n",
       "    </tr>\n",
       "    <tr>\n",
       "      <th>3</th>\n",
       "      <td>4</td>\n",
       "      <td>Mar 17, 2025 15:24:08.968071000 Pakistan Standard Time</td>\n",
       "      <td>DNS</td>\n",
       "      <td>NaN</td>\n",
       "      <td>NaN</td>\n",
       "      <td>NaN</td>\n",
       "      <td>NaN</td>\n",
       "      <td>NaN</td>\n",
       "      <td>NaN</td>\n",
       "      <td>Standard query 0x7ad4 PTR 11.100.168.192.in-addr.arpa OPT</td>\n",
       "      <td>118</td>\n",
       "      <td>0.000012</td>\n",
       "      <td>\\r</td>\n",
       "    </tr>\n",
       "    <tr>\n",
       "      <th>4</th>\n",
       "      <td>5</td>\n",
       "      <td>Mar 17, 2025 15:24:08.968389000 Pakistan Standard Time</td>\n",
       "      <td>DNS</td>\n",
       "      <td>NaN</td>\n",
       "      <td>NaN</td>\n",
       "      <td>NaN</td>\n",
       "      <td>NaN</td>\n",
       "      <td>NaN</td>\n",
       "      <td>NaN</td>\n",
       "      <td>Standard query 0x1ed9 PTR 1.100.168.192.in-addr.arpa OPT</td>\n",
       "      <td>117</td>\n",
       "      <td>0.000318</td>\n",
       "      <td>\\r</td>\n",
       "    </tr>\n",
       "  </tbody>\n",
       "</table>\n",
       "</div>"
      ],
      "text/plain": [
       "   frame.number                                              frame.time _ws.col.protocol ip.ttl          ip.src         ip.dst  tcp.srcport  tcp.dstport tcp.flags                                               _ws.col.info  frame.len  frame.time_delta_displayed ppi_gps.alt\\r\n",
       "0             1  Mar 17, 2025 15:24:08.655020000 Pakistan Standard Time             DHCP     64  192.168.100.11  192.168.100.1          NaN          NaN       NaN                  DHCP Request  - Transaction ID 0x69789b5b        330                    0.000000            \\r\n",
       "1             2  Mar 17, 2025 15:24:08.655033000 Pakistan Standard Time             DHCP     64  192.168.100.11  192.168.100.1          NaN          NaN       NaN                  DHCP Request  - Transaction ID 0x69789b5b        330                    0.000013            \\r\n",
       "2             3  Mar 17, 2025 15:24:08.968059000 Pakistan Standard Time              DNS    NaN             NaN            NaN          NaN          NaN       NaN  Standard query 0x7ad4 PTR 11.100.168.192.in-addr.arpa OPT        118                    0.313026            \\r\n",
       "3             4  Mar 17, 2025 15:24:08.968071000 Pakistan Standard Time              DNS    NaN             NaN            NaN          NaN          NaN       NaN  Standard query 0x7ad4 PTR 11.100.168.192.in-addr.arpa OPT        118                    0.000012            \\r\n",
       "4             5  Mar 17, 2025 15:24:08.968389000 Pakistan Standard Time              DNS    NaN             NaN            NaN          NaN          NaN       NaN   Standard query 0x1ed9 PTR 1.100.168.192.in-addr.arpa OPT        117                    0.000318            \\r"
      ]
     },
     "execution_count": 14,
     "metadata": {},
     "output_type": "execute_result"
    }
   ],
   "source": [
    "df = df.dropna(axis=1, how=\"all\")  # Drop fully empty columns\n",
    "df = df.dropna(axis=0, how=\"all\")  # Drop fully empty rows\n",
    "df = df.dropna(thresh=0.5 * len(df), axis=1)  # Drop columns with >50% missing values\n",
    "#verify\n",
    "df.shape\n",
    "#view\n",
    "df.head()"
   ]
  },
  {
   "cell_type": "code",
   "execution_count": 15,
   "metadata": {},
   "outputs": [
    {
     "name": "stderr",
     "output_type": "stream",
     "text": [
      ") missing from font(s) Arial.s\\seaborn\\utils.py:61: UserWarning: Glyph 13 (\n",
      "  fig.canvas.draw()\n",
      ") missing from font(s) Arial.s\\IPython\\core\\pylabtools.py:170: UserWarning: Glyph 13 (\n",
      "  fig.canvas.print_figure(bytes_io, **kw)\n"
     ]
    },
    {
     "data": {
      "image/png": "[encoded data removed]",
      "text/plain": [
       "<Figure size 1200x600 with 1 Axes>"
      ]
     },
     "metadata": {},
     "output_type": "display_data"
    }
   ],
   "source": [
    "# Visualizing Missing Values after droping columns\n",
    "plt.figure(figsize=(12, 6))\n",
    "sns.heatmap(df.isnull(), cmap=\"plasma\", cbar=False, yticklabels=False)\n",
    "plt.title(\"Missing Values After Droping Columns\")\n",
    "plt.show()"
   ]
  },
  {
   "cell_type": "code",
   "execution_count": 16,
   "metadata": {},
   "outputs": [
    {
     "name": "stdout",
     "output_type": "stream",
     "text": [
      "<class 'pandas.core.frame.DataFrame'>\n",
      "RangeIndex: 80105 entries, 0 to 80104\n",
      "Data columns (total 13 columns):\n",
      " #   Column                      Non-Null Count  Dtype  \n",
      "---  ------                      --------------  -----  \n",
      " 0   frame.number                80105 non-null  int64  \n",
      " 1   frame.time                  80105 non-null  object \n",
      " 2   _ws.col.protocol            80105 non-null  object \n",
      " 3   ip.ttl                      62939 non-null  object \n",
      " 4   ip.src                      62939 non-null  object \n",
      " 5   ip.dst                      62939 non-null  object \n",
      " 6   tcp.srcport                 70989 non-null  float64\n",
      " 7   tcp.dstport                 70989 non-null  float64\n",
      " 8   tcp.flags                   70973 non-null  object \n",
      " 9   _ws.col.info                79859 non-null  object \n",
      " 10  frame.len                   80105 non-null  int64  \n",
      " 11  frame.time_delta_displayed  80105 non-null  float64\n",
      "                80105 non-null  object \n",
      "dtypes: float64(3), int64(2), object(8)\n",
      "memory usage: 7.9+ MB\n"
     ]
    }
   ],
   "source": [
    "# To check if any colum dropped\n",
    "df.info()"
   ]
  },
  {
   "cell_type": "code",
   "execution_count": 171,
   "metadata": {},
   "outputs": [
    {
     "name": "stdout",
     "output_type": "stream",
     "text": [
      "✅ Column 'ppi_gps.alt\\r' dropped successfully.\n"
     ]
    }
   ],
   "source": [
    "df.drop(columns=['ppi_gps.alt\\r'], inplace=True) #thiscolumn did not contain any useful information\n",
    "print(\"✅ Column 'ppi_gps.alt\\\\r' dropped successfully.\")\n"
   ]
  },
  {
   "cell_type": "code",
   "execution_count": 172,
   "metadata": {},
   "outputs": [
    {
     "data": {
      "text/html": [
       "<div>\n",
       "<style scoped>\n",
       "    .dataframe tbody tr th:only-of-type {\n",
       "        vertical-align: middle;\n",
       "    }\n",
       "\n",
       "    .dataframe tbody tr th {\n",
       "        vertical-align: top;\n",
       "    }\n",
       "\n",
       "    .dataframe thead th {\n",
       "        text-align: right;\n",
       "    }\n",
       "</style>\n",
       "<table border=\"1\" class=\"dataframe\">\n",
       "  <thead>\n",
       "    <tr style=\"text-align: right;\">\n",
       "      <th></th>\n",
       "      <th>frame.number</th>\n",
       "      <th>frame.time</th>\n",
       "      <th>_ws.col.protocol</th>\n",
       "      <th>ip.ttl</th>\n",
       "      <th>ip.src</th>\n",
       "      <th>ip.dst</th>\n",
       "      <th>tcp.srcport</th>\n",
       "      <th>tcp.dstport</th>\n",
       "      <th>tcp.flags</th>\n",
       "      <th>_ws.col.info</th>\n",
       "      <th>frame.len</th>\n",
       "      <th>frame.time_delta_displayed</th>\n",
       "    </tr>\n",
       "  </thead>\n",
       "  <tbody>\n",
       "    <tr>\n",
       "      <th>0</th>\n",
       "      <td>1</td>\n",
       "      <td>Mar 17, 2025 15:24:08.655020000 Pakistan Standard Time</td>\n",
       "      <td>DHCP</td>\n",
       "      <td>64</td>\n",
       "      <td>192.168.100.11</td>\n",
       "      <td>192.168.100.1</td>\n",
       "      <td>52813.0</td>\n",
       "      <td>443.0</td>\n",
       "      <td>0x0010</td>\n",
       "      <td>DHCP Request  - Transaction ID 0x69789b5b</td>\n",
       "      <td>330</td>\n",
       "      <td>0.000000</td>\n",
       "    </tr>\n",
       "    <tr>\n",
       "      <th>1</th>\n",
       "      <td>2</td>\n",
       "      <td>Mar 17, 2025 15:24:08.655033000 Pakistan Standard Time</td>\n",
       "      <td>DHCP</td>\n",
       "      <td>64</td>\n",
       "      <td>192.168.100.11</td>\n",
       "      <td>192.168.100.1</td>\n",
       "      <td>52813.0</td>\n",
       "      <td>443.0</td>\n",
       "      <td>0x0010</td>\n",
       "      <td>DHCP Request  - Transaction ID 0x69789b5b</td>\n",
       "      <td>330</td>\n",
       "      <td>0.000013</td>\n",
       "    </tr>\n",
       "    <tr>\n",
       "      <th>2</th>\n",
       "      <td>3</td>\n",
       "      <td>Mar 17, 2025 15:24:08.968059000 Pakistan Standard Time</td>\n",
       "      <td>DNS</td>\n",
       "      <td>128</td>\n",
       "      <td>192.168.100.27</td>\n",
       "      <td>192.168.100.27</td>\n",
       "      <td>52813.0</td>\n",
       "      <td>443.0</td>\n",
       "      <td>0x0010</td>\n",
       "      <td>Standard query 0x7ad4 PTR 11.100.168.192.in-addr.arpa OPT</td>\n",
       "      <td>118</td>\n",
       "      <td>0.313026</td>\n",
       "    </tr>\n",
       "    <tr>\n",
       "      <th>3</th>\n",
       "      <td>4</td>\n",
       "      <td>Mar 17, 2025 15:24:08.968071000 Pakistan Standard Time</td>\n",
       "      <td>DNS</td>\n",
       "      <td>128</td>\n",
       "      <td>192.168.100.27</td>\n",
       "      <td>192.168.100.27</td>\n",
       "      <td>52813.0</td>\n",
       "      <td>443.0</td>\n",
       "      <td>0x0010</td>\n",
       "      <td>Standard query 0x7ad4 PTR 11.100.168.192.in-addr.arpa OPT</td>\n",
       "      <td>118</td>\n",
       "      <td>0.000012</td>\n",
       "    </tr>\n",
       "    <tr>\n",
       "      <th>4</th>\n",
       "      <td>5</td>\n",
       "      <td>Mar 17, 2025 15:24:08.968389000 Pakistan Standard Time</td>\n",
       "      <td>DNS</td>\n",
       "      <td>128</td>\n",
       "      <td>192.168.100.27</td>\n",
       "      <td>192.168.100.27</td>\n",
       "      <td>52813.0</td>\n",
       "      <td>443.0</td>\n",
       "      <td>0x0010</td>\n",
       "      <td>Standard query 0x1ed9 PTR 1.100.168.192.in-addr.arpa OPT</td>\n",
       "      <td>117</td>\n",
       "      <td>0.000318</td>\n",
       "    </tr>\n",
       "  </tbody>\n",
       "</table>\n",
       "</div>"
      ],
      "text/plain": [
       "   frame.number                                              frame.time _ws.col.protocol ip.ttl          ip.src          ip.dst  tcp.srcport  tcp.dstport tcp.flags                                               _ws.col.info  frame.len  frame.time_delta_displayed\n",
       "0             1  Mar 17, 2025 15:24:08.655020000 Pakistan Standard Time             DHCP     64  192.168.100.11   192.168.100.1      52813.0        443.0    0x0010                  DHCP Request  - Transaction ID 0x69789b5b        330                    0.000000\n",
       "1             2  Mar 17, 2025 15:24:08.655033000 Pakistan Standard Time             DHCP     64  192.168.100.11   192.168.100.1      52813.0        443.0    0x0010                  DHCP Request  - Transaction ID 0x69789b5b        330                    0.000013\n",
       "2             3  Mar 17, 2025 15:24:08.968059000 Pakistan Standard Time              DNS    128  192.168.100.27  192.168.100.27      52813.0        443.0    0x0010  Standard query 0x7ad4 PTR 11.100.168.192.in-addr.arpa OPT        118                    0.313026\n",
       "3             4  Mar 17, 2025 15:24:08.968071000 Pakistan Standard Time              DNS    128  192.168.100.27  192.168.100.27      52813.0        443.0    0x0010  Standard query 0x7ad4 PTR 11.100.168.192.in-addr.arpa OPT        118                    0.000012\n",
       "4             5  Mar 17, 2025 15:24:08.968389000 Pakistan Standard Time              DNS    128  192.168.100.27  192.168.100.27      52813.0        443.0    0x0010   Standard query 0x1ed9 PTR 1.100.168.192.in-addr.arpa OPT        117                    0.000318"
      ]
     },
     "execution_count": 172,
     "metadata": {},
     "output_type": "execute_result"
    }
   ],
   "source": [
    "# Fill missing values for **numerical** columns with median\n",
    "num_cols = df.select_dtypes(include=[\"number\"]).columns\n",
    "df[num_cols] = df[num_cols].apply(lambda x: x.fillna(x.median()))\n",
    "\n",
    "# Fill missing values for **categorical** columns with mode\n",
    "cat_cols = df.select_dtypes(include=[\"object\"]).columns\n",
    "df[cat_cols] = df[cat_cols].apply(lambda x: x.fillna(x.mode()[0]))\n",
    "df.head()"
   ]
  },
  {
   "cell_type": "code",
   "execution_count": 173,
   "metadata": {},
   "outputs": [
    {
     "data": {
      "image/png": "[encoded data removed]",
      "text/plain": [
       "<Figure size 1200x600 with 1 Axes>"
      ]
     },
     "metadata": {},
     "output_type": "display_data"
    }
   ],
   "source": [
    "# Visualizing Missing Values After Cleaning\n",
    "plt.figure(figsize=(12, 6))\n",
    "sns.heatmap(df.isnull(), cmap=\"viridis\", cbar=False, yticklabels=False)\n",
    "plt.title(\"Missing Values After Cleaning\")\n",
    "plt.show()"
   ]
  },
  {
   "cell_type": "markdown",
   "metadata": {},
   "source": [
    "## 6. change time frame"
   ]
  },
  {
   "cell_type": "code",
   "execution_count": 174,
   "metadata": {},
   "outputs": [
    {
     "name": "stdout",
     "output_type": "stream",
     "text": [
      "✅ Column 'frame.time' dropped successfully.\n"
     ]
    }
   ],
   "source": [
    "df.drop(columns=['frame.time'], inplace=True) #thiscolumn is not necessary for ML models\n",
    "print(\"✅ Column 'frame.time' dropped successfully.\")\n"
   ]
  },
  {
   "cell_type": "code",
   "execution_count": null,
   "metadata": {},
   "outputs": [],
   "source": [
    "# #To deal with column of time named 'frame.time'  (not using as droped the coulumn)\n",
    "# # Convert 'frame.time' to datetime\n",
    "# # Clean 'frame.time': remove timezone label and extra whitespace/characters\n",
    "# df['frame.time'] = df['frame.time'].astype(str)\n",
    "# df['frame.time'] = df['frame.time'].str.replace('Pakistan Standard Time', '', regex=False)\n",
    "# df['frame.time'] = df['frame.time'].str.replace(r'[\\r\\n]', '', regex=True).str.strip()\n",
    "\n",
    "# # Now safely parse datetime\n",
    "# df['frame.time'] = pd.to_datetime(df['frame.time'], errors='coerce', format=\"%b %d, %Y %H:%M:%S.%f\")\n",
    "\n",
    "# # Sort chronologically\n",
    "# df = df.sort_values(by='frame.time')\n",
    "\n",
    "# print(\"✅ frame.time cleaned, timezone removed, converted to datetime, and dataset sorted.\")\n"
   ]
  },
  {
   "cell_type": "code",
   "execution_count": 175,
   "metadata": {},
   "outputs": [
    {
     "data": {
      "text/html": [
       "<div>\n",
       "<style scoped>\n",
       "    .dataframe tbody tr th:only-of-type {\n",
       "        vertical-align: middle;\n",
       "    }\n",
       "\n",
       "    .dataframe tbody tr th {\n",
       "        vertical-align: top;\n",
       "    }\n",
       "\n",
       "    .dataframe thead th {\n",
       "        text-align: right;\n",
       "    }\n",
       "</style>\n",
       "<table border=\"1\" class=\"dataframe\">\n",
       "  <thead>\n",
       "    <tr style=\"text-align: right;\">\n",
       "      <th></th>\n",
       "      <th>frame.number</th>\n",
       "      <th>_ws.col.protocol</th>\n",
       "      <th>ip.ttl</th>\n",
       "      <th>ip.src</th>\n",
       "      <th>ip.dst</th>\n",
       "      <th>tcp.srcport</th>\n",
       "      <th>tcp.dstport</th>\n",
       "      <th>tcp.flags</th>\n",
       "      <th>_ws.col.info</th>\n",
       "      <th>frame.len</th>\n",
       "      <th>frame.time_delta_displayed</th>\n",
       "    </tr>\n",
       "  </thead>\n",
       "  <tbody>\n",
       "    <tr>\n",
       "      <th>0</th>\n",
       "      <td>1</td>\n",
       "      <td>DHCP</td>\n",
       "      <td>64</td>\n",
       "      <td>192.168.100.11</td>\n",
       "      <td>192.168.100.1</td>\n",
       "      <td>52813.0</td>\n",
       "      <td>443.0</td>\n",
       "      <td>0x0010</td>\n",
       "      <td>DHCP Request  - Transaction ID 0x69789b5b</td>\n",
       "      <td>330</td>\n",
       "      <td>0.000000</td>\n",
       "    </tr>\n",
       "    <tr>\n",
       "      <th>1</th>\n",
       "      <td>2</td>\n",
       "      <td>DHCP</td>\n",
       "      <td>64</td>\n",
       "      <td>192.168.100.11</td>\n",
       "      <td>192.168.100.1</td>\n",
       "      <td>52813.0</td>\n",
       "      <td>443.0</td>\n",
       "      <td>0x0010</td>\n",
       "      <td>DHCP Request  - Transaction ID 0x69789b5b</td>\n",
       "      <td>330</td>\n",
       "      <td>0.000013</td>\n",
       "    </tr>\n",
       "    <tr>\n",
       "      <th>2</th>\n",
       "      <td>3</td>\n",
       "      <td>DNS</td>\n",
       "      <td>128</td>\n",
       "      <td>192.168.100.27</td>\n",
       "      <td>192.168.100.27</td>\n",
       "      <td>52813.0</td>\n",
       "      <td>443.0</td>\n",
       "      <td>0x0010</td>\n",
       "      <td>Standard query 0x7ad4 PTR 11.100.168.192.in-addr.arpa OPT</td>\n",
       "      <td>118</td>\n",
       "      <td>0.313026</td>\n",
       "    </tr>\n",
       "    <tr>\n",
       "      <th>3</th>\n",
       "      <td>4</td>\n",
       "      <td>DNS</td>\n",
       "      <td>128</td>\n",
       "      <td>192.168.100.27</td>\n",
       "      <td>192.168.100.27</td>\n",
       "      <td>52813.0</td>\n",
       "      <td>443.0</td>\n",
       "      <td>0x0010</td>\n",
       "      <td>Standard query 0x7ad4 PTR 11.100.168.192.in-addr.arpa OPT</td>\n",
       "      <td>118</td>\n",
       "      <td>0.000012</td>\n",
       "    </tr>\n",
       "    <tr>\n",
       "      <th>4</th>\n",
       "      <td>5</td>\n",
       "      <td>DNS</td>\n",
       "      <td>128</td>\n",
       "      <td>192.168.100.27</td>\n",
       "      <td>192.168.100.27</td>\n",
       "      <td>52813.0</td>\n",
       "      <td>443.0</td>\n",
       "      <td>0x0010</td>\n",
       "      <td>Standard query 0x1ed9 PTR 1.100.168.192.in-addr.arpa OPT</td>\n",
       "      <td>117</td>\n",
       "      <td>0.000318</td>\n",
       "    </tr>\n",
       "  </tbody>\n",
       "</table>\n",
       "</div>"
      ],
      "text/plain": [
       "   frame.number _ws.col.protocol ip.ttl          ip.src          ip.dst  tcp.srcport  tcp.dstport tcp.flags                                               _ws.col.info  frame.len  frame.time_delta_displayed\n",
       "0             1             DHCP     64  192.168.100.11   192.168.100.1      52813.0        443.0    0x0010                  DHCP Request  - Transaction ID 0x69789b5b        330                    0.000000\n",
       "1             2             DHCP     64  192.168.100.11   192.168.100.1      52813.0        443.0    0x0010                  DHCP Request  - Transaction ID 0x69789b5b        330                    0.000013\n",
       "2             3              DNS    128  192.168.100.27  192.168.100.27      52813.0        443.0    0x0010  Standard query 0x7ad4 PTR 11.100.168.192.in-addr.arpa OPT        118                    0.313026\n",
       "3             4              DNS    128  192.168.100.27  192.168.100.27      52813.0        443.0    0x0010  Standard query 0x7ad4 PTR 11.100.168.192.in-addr.arpa OPT        118                    0.000012\n",
       "4             5              DNS    128  192.168.100.27  192.168.100.27      52813.0        443.0    0x0010   Standard query 0x1ed9 PTR 1.100.168.192.in-addr.arpa OPT        117                    0.000318"
      ]
     },
     "execution_count": 175,
     "metadata": {},
     "output_type": "execute_result"
    }
   ],
   "source": [
    "#To view changes\n",
    "df.head()"
   ]
  },
  {
   "cell_type": "markdown",
   "metadata": {},
   "source": [
    "## 7. Labeling Data"
   ]
  },
  {
   "cell_type": "code",
   "execution_count": null,
   "metadata": {},
   "outputs": [],
   "source": [
    "#will use these for label encoding\n",
    "# 192.168.100.11', '192.168.100.75','192.168.100.1', '192.168.100.60','192.168.100.139', '192.168.100.78', \n",
    "# '192.168.100.48', '192.168.100.49', '192.168.100.11,'192.168.100.75',\n",
    "       "
   ]
  },
  {
   "cell_type": "code",
   "execution_count": 176,
   "metadata": {},
   "outputs": [
    {
     "name": "stdout",
     "output_type": "stream",
     "text": [
      "✅ IP-based attack labels assigned.\n",
      "label\n",
      "normal    66927\n",
      "attack    13178\n",
      "Name: count, dtype: int64\n"
     ]
    }
   ],
   "source": [
    "# IP-Based Labeling for Attacks\n",
    "\n",
    "#  Initialize all labels to 'normal'\n",
    "df['label'] = 'normal'\n",
    "\n",
    "# Define suspicious IPs (either source or destination)\n",
    "suspicious_ips = [\n",
    "    '192.168.100.11', '192.168.100.75', '192.168.100.1',\n",
    "    '192.168.100.60', '192.168.100.139', '192.168.100.78',\n",
    "    '192.168.100.48', '192.168.100.49'\n",
    "]\n",
    "\n",
    "# Mark rows as 'attack' if either source or destination IP matches\n",
    "df.loc[\n",
    "    (df['ip.src'].isin(suspicious_ips)) | (df['ip.dst'].isin(suspicious_ips)),\n",
    "    'label'\n",
    "] = 'attack'\n",
    "\n",
    "print(\"✅ IP-based attack labels assigned.\")\n",
    "print(df['label'].value_counts())\n"
   ]
  },
  {
   "cell_type": "code",
   "execution_count": null,
   "metadata": {},
   "outputs": [],
   "source": [
    "# # Time-Based Labeling for Attacks (but not using for current dataset)\n",
    "\n",
    "# # Initialize 'label' column only if not already present so to avoid overwriting\n",
    "# if 'label' not in df.columns:\n",
    "#     df['label'] = 'normal'\n",
    "\n",
    "# # Define attack time ranges (you can add more)\n",
    "# attack_time_ranges = [\n",
    "#     (\"2025-03-17 15:25:04\", \"2025-03-17 15:27:04\"),\n",
    "#     # Add more time windows if needed\n",
    "# ]\n",
    "\n",
    "# #Apply time range logic\n",
    "# for start, end in attack_time_ranges:\n",
    "#     mask = (df['frame.time'] >= pd.to_datetime(start)) & (df['frame.time'] <= pd.to_datetime(end))\n",
    "#     df.loc[mask, 'label'] = 'attack'\n",
    "\n",
    "# print(\"✅ Time-based attack labels assigned.\")\n",
    "# print(df['label'].value_counts())\n"
   ]
  },
  {
   "cell_type": "code",
   "execution_count": 177,
   "metadata": {},
   "outputs": [
    {
     "data": {
      "text/plain": [
       "array(['attack', 'normal'], dtype=object)"
      ]
     },
     "execution_count": 177,
     "metadata": {},
     "output_type": "execute_result"
    }
   ],
   "source": [
    "df['label'].unique()"
   ]
  },
  {
   "cell_type": "markdown",
   "metadata": {},
   "source": [
    "## 8.Encoding Categorical Variables"
   ]
  },
  {
   "cell_type": "code",
   "execution_count": 178,
   "metadata": {},
   "outputs": [
    {
     "name": "stdout",
     "output_type": "stream",
     "text": [
      "✅ All categorical features (including 'label') encoded using LabelEncoder.\n"
     ]
    }
   ],
   "source": [
    "#Encode all categorical columns including 'label'\n",
    "\n",
    "\n",
    "# Identify all categorical columns (object or category dtype)\n",
    "cat_cols = df.select_dtypes(include=['object', 'category']).columns.tolist()\n",
    "\n",
    "# Initialize label encoders dictionary\n",
    "label_encoders = {}\n",
    "\n",
    "# Apply LabelEncoder to all categorical columns\n",
    "for col in cat_cols:\n",
    "    le = LabelEncoder()\n",
    "    df[col] = le.fit_transform(df[col])\n",
    "    label_encoders[col] = le\n",
    "\n",
    "print(\"✅ All categorical features (including 'label') encoded using LabelEncoder.\")\n",
    "\n",
    "# Define X and y for model training (now after encoding)\n",
    "X = df.drop(columns=['label'])\n",
    "y = df['label']  # Already encoded in previous loop, no need to encode again separately before SMOTE\n"
   ]
  },
  {
   "cell_type": "code",
   "execution_count": 179,
   "metadata": {},
   "outputs": [
    {
     "name": "stdout",
     "output_type": "stream",
     "text": [
      "✅ After SMOTE: X = (133854, 11), y = (133854,)\n"
     ]
    }
   ],
   "source": [
    "smote = SMOTE(random_state=42)\n",
    "X_resampled, y_resampled = smote.fit_resample(X, y)\n",
    "\n",
    "print(f\"✅ After SMOTE: X = {X_resampled.shape}, y = {y_resampled.shape}\")\n"
   ]
  },
  {
   "cell_type": "code",
   "execution_count": 180,
   "metadata": {},
   "outputs": [
    {
     "name": "stdout",
     "output_type": "stream",
     "text": [
      "Class distribution before SMOTE: {1: 66927, 0: 13178}\n",
      "Class distribution after SMOTE: {np.int64(0): np.int64(66927), np.int64(1): np.int64(66927)}\n"
     ]
    }
   ],
   "source": [
    "print(\"Class distribution before SMOTE:\", y.value_counts().to_dict())\n",
    "print(\"Class distribution after SMOTE:\", dict(zip(*np.unique(y_resampled, return_counts=True))))\n"
   ]
  },
  {
   "cell_type": "markdown",
   "metadata": {},
   "source": [
    "## 9. Save Processed Data"
   ]
  },
  {
   "cell_type": "markdown",
   "metadata": {},
   "source": [
    "##### Remember to update file path for each file. Edit: no need to keep track of file name"
   ]
  },
  {
   "cell_type": "code",
   "execution_count": 181,
   "metadata": {},
   "outputs": [
    {
     "name": "stdout",
     "output_type": "stream",
     "text": [
      "✅ Processed dataset saved to D:/FYP/data/datasets/final_dataset_02.csv\n"
     ]
    }
   ],
   "source": [
    "PROCESSED_DIR = \"D:/FYP/data/datasets/\"\n",
    "\n",
    "# Find the next available filename dynamically\n",
    "file_number = next(i for i in itertools.count(1) if not os.path.exists(f\"{PROCESSED_DIR}final_dataset_{i:02d}.csv\"))\n",
    "\n",
    "# Save the dataset\n",
    "filename = f\"final_dataset_{file_number:02d}.csv\"\n",
    "file_path = os.path.join(PROCESSED_DIR, filename)\n",
    "#df.to_csv(file_path, index=False)\n",
    "pd.concat([X_resampled, y_resampled], axis=1).to_csv(file_path, index=False)\n",
    "\n",
    "print(f\"✅ Processed dataset saved to {file_path}\")\n"
   ]
  }
 ],
 "metadata": {
  "kernelspec": {
   "display_name": ".venv",
   "language": "python",
   "name": "python3"
  },
  "language_info": {
   "codemirror_mode": {
    "name": "ipython",
    "version": 3
   },
   "file_extension": ".py",
   "mimetype": "text/x-python",
   "name": "python",
   "nbconvert_exporter": "python",
   "pygments_lexer": "ipython3",
   "version": "3.13.1"
  }
 },
 "nbformat": 4,
 "nbformat_minor": 4
}
